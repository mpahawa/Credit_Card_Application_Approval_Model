{
 "cells": [
  {
   "cell_type": "code",
   "execution_count": 2,
   "metadata": {},
   "outputs": [
    {
     "data": {
      "application/vnd.jupyter.widget-view+json": {
       "model_id": "",
       "version_major": 2,
       "version_minor": 0
      },
      "text/plain": [
       "VBox()"
      ]
     },
     "metadata": {},
     "output_type": "display_data"
    },
    {
     "data": {
      "application/vnd.jupyter.widget-view+json": {
       "model_id": "",
       "version_major": 2,
       "version_minor": 0
      },
      "text/plain": [
       "FloatProgress(value=0.0, bar_style='info', description='Progress:', layout=Layout(height='25px', width='50%'),…"
      ]
     },
     "metadata": {},
     "output_type": "display_data"
    }
   ],
   "source": [
    "import os\n",
    "import sys\n",
    "# Here you need to have same Python version on your local machine and on worker node i.e. EC2. here both should have python3.\n",
    "os.environ[\"PYSPARK_PYTHON\"] = \"/bin/python3\"\n",
    "os.environ[\"JAVA_HOME\"] = \"/usr/java/jdk1.8.0_161/jre\"\n",
    "os.environ[\"SPARK_HOME\"] = \"/home/ec2-user/spark-2.4.4-bin-hadoop2.7\"\n",
    "os.environ[\"PYLIB\"] = os.environ[\"SPARK_HOME\"] + \"/python/lib\"\n",
    "sys.path.insert(0, os.environ[\"PYLIB\"] + \"/py4j-0.10.7-src.zip\")\n",
    "sys.path.insert(0, os.environ[\"PYLIB\"] + \"/pyspark.zip\")"
   ]
  },
  {
   "cell_type": "code",
   "execution_count": 3,
   "metadata": {},
   "outputs": [
    {
     "data": {
      "application/vnd.jupyter.widget-view+json": {
       "model_id": "99b89fe6259d4dbeaabcdf7800022b6b",
       "version_major": 2,
       "version_minor": 0
      },
      "text/plain": [
       "VBox()"
      ]
     },
     "metadata": {},
     "output_type": "display_data"
    },
    {
     "data": {
      "application/vnd.jupyter.widget-view+json": {
       "model_id": "",
       "version_major": 2,
       "version_minor": 0
      },
      "text/plain": [
       "FloatProgress(value=0.0, bar_style='info', description='Progress:', layout=Layout(height='25px', width='50%'),…"
      ]
     },
     "metadata": {},
     "output_type": "display_data"
    },
    {
     "name": "stdout",
     "output_type": "stream",
     "text": [
      "Collecting pandas==0.25.1\n",
      "  Downloading https://files.pythonhosted.org/packages/7e/ab/ea76361f9d3e732e114adcd801d2820d5319c23d0ac5482fa3b412db217e/pandas-0.25.1-cp37-cp37m-manylinux1_x86_64.whl (10.4MB)\n",
      "Requirement already satisfied: numpy>=1.13.3 in /usr/local/lib64/python3.7/site-packages (from pandas==0.25.1)\n",
      "Collecting python-dateutil>=2.6.1 (from pandas==0.25.1)\n",
      "  Downloading https://files.pythonhosted.org/packages/36/7a/87837f39d0296e723bb9b62bbb257d0355c7f6128853c78955f57342a56d/python_dateutil-2.8.2-py2.py3-none-any.whl (247kB)\n",
      "Requirement already satisfied: pytz>=2017.2 in /usr/local/lib/python3.7/site-packages (from pandas==0.25.1)\n",
      "Requirement already satisfied: six>=1.5 in /usr/local/lib/python3.7/site-packages (from python-dateutil>=2.6.1->pandas==0.25.1)\n",
      "Installing collected packages: python-dateutil, pandas\n",
      "Successfully installed pandas-0.25.1 python-dateutil-2.8.2\n",
      "\n",
      "Collecting matplotlib==3.1.1\n",
      "  Downloading https://files.pythonhosted.org/packages/19/7a/60bd79c5d79559150f8bba866dd7d434f0a170312e4d15e8aefa5faba294/matplotlib-3.1.1-cp37-cp37m-manylinux1_x86_64.whl (13.1MB)\n",
      "Collecting pyparsing!=2.0.4,!=2.1.2,!=2.1.6,>=2.0.1 (from matplotlib==3.1.1)\n",
      "  Downloading https://files.pythonhosted.org/packages/6c/10/a7d0fa5baea8fe7b50f448ab742f26f52b80bfca85ac2be9d35cdd9a3246/pyparsing-3.0.9-py3-none-any.whl (98kB)\n",
      "Requirement already satisfied: python-dateutil>=2.1 in /mnt/tmp/1684914322060-0/lib/python3.7/site-packages (from matplotlib==3.1.1)\n",
      "Requirement already satisfied: numpy>=1.11 in /usr/local/lib64/python3.7/site-packages (from matplotlib==3.1.1)\n",
      "Collecting cycler>=0.10 (from matplotlib==3.1.1)\n",
      "  Downloading https://files.pythonhosted.org/packages/5c/f9/695d6bedebd747e5eb0fe8fad57b72fdf25411273a39791cde838d5a8f51/cycler-0.11.0-py3-none-any.whl\n",
      "Collecting kiwisolver>=1.0.1 (from matplotlib==3.1.1)\n",
      "  Downloading https://files.pythonhosted.org/packages/ab/8f/8dbe2d4efc4c0b08ec67d6efb7cc31fbfd688c80afad85f65980633b0d37/kiwisolver-1.4.4-cp37-cp37m-manylinux_2_5_x86_64.manylinux1_x86_64.whl (1.1MB)\n",
      "Requirement already satisfied: six>=1.5 in /usr/local/lib/python3.7/site-packages (from python-dateutil>=2.1->matplotlib==3.1.1)\n",
      "Requirement already satisfied: typing-extensions; python_version < \"3.8\" in /usr/local/lib64/python3.7/site-packages (from kiwisolver>=1.0.1->matplotlib==3.1.1)\n",
      "Installing collected packages: pyparsing, cycler, kiwisolver, matplotlib\n",
      "Successfully installed cycler-0.11.0 kiwisolver-1.4.4 matplotlib-3.1.1 pyparsing-3.0.9\n",
      "\n",
      "Collecting joblibspark\n",
      "  Downloading https://files.pythonhosted.org/packages/da/70/c990f495a71d87cb2a13c7b76a6495b1371045905c973536dd67009733cc/joblibspark-0.5.1-py3-none-any.whl\n",
      "Requirement already satisfied: joblib>=0.14 in /usr/local/lib64/python3.7/site-packages (from joblibspark)\n",
      "Installing collected packages: joblibspark\n",
      "Successfully installed joblibspark-0.5.1\n",
      "\n",
      "Collecting pip==22.3.1\n",
      "  Downloading https://files.pythonhosted.org/packages/09/bd/2410905c76ee14c62baf69e3f4aa780226c1bbfc9485731ad018e35b0cb5/pip-22.3.1-py3-none-any.whl (2.1MB)\n",
      "Installing collected packages: pip\n",
      "  Found existing installation: pip 9.0.1\n",
      "    Uninstalling pip-9.0.1:\n",
      "      Successfully uninstalled pip-9.0.1\n",
      "Successfully installed pip-22.3.1\n",
      "\n",
      "Collecting scikit-learn==1.0.2\n",
      "  Downloading scikit_learn-1.0.2-cp37-cp37m-manylinux_2_17_x86_64.manylinux2014_x86_64.whl (24.8 MB)\n",
      "     ━━━━━━━━━━━━━━━━━━━━━━━━━━━━━━━━━━━━━━━━ 24.8/24.8 MB 38.6 MB/s eta 0:00:00\n",
      "Requirement already satisfied: numpy>=1.14.6 in /usr/local/lib64/python3.7/site-packages (from scikit-learn==1.0.2) (1.20.0)\n",
      "Requirement already satisfied: joblib>=0.11 in /usr/local/lib64/python3.7/site-packages (from scikit-learn==1.0.2) (1.1.0)\n",
      "Collecting scipy>=1.1.0\n",
      "  Downloading scipy-1.7.3-cp37-cp37m-manylinux_2_12_x86_64.manylinux2010_x86_64.whl (38.1 MB)\n",
      "     ━━━━━━━━━━━━━━━━━━━━━━━━━━━━━━━━━━━━━━━━ 38.1/38.1 MB 30.8 MB/s eta 0:00:00\n",
      "Collecting threadpoolctl>=2.0.0\n",
      "  Downloading threadpoolctl-3.1.0-py3-none-any.whl (14 kB)\n",
      "Installing collected packages: threadpoolctl, scipy, scikit-learn\n",
      "Successfully installed scikit-learn-1.0.2 scipy-1.7.3 threadpoolctl-3.1.0\n",
      "\n",
      "You are using pip version 9.0.1, however version 23.1.2 is available.\n",
      "You should consider upgrading via the 'pip install --upgrade pip' command.\n",
      "\n",
      "You are using pip version 9.0.1, however version 23.1.2 is available.\n",
      "You should consider upgrading via the 'pip install --upgrade pip' command.\n",
      "\n",
      "You are using pip version 9.0.1, however version 23.1.2 is available.\n",
      "You should consider upgrading via the 'pip install --upgrade pip' command.\n",
      "\n",
      "You are using pip version 22.3.1, however version 23.1.2 is available.\n",
      "You should consider upgrading via the 'pip install --upgrade pip' command.\n",
      "\n",
      "\n",
      "[notice] A new release of pip available: 22.3.1 -> 23.1.2\n",
      "[notice] To update, run: /tmp/1684914322060-0/bin/python -m pip install --upgrade pip"
     ]
    }
   ],
   "source": [
    "# Creating Spark Session \n",
    "from pyspark.sql import SparkSession\n",
    "spark = SparkSession.builder.appName('CC_Assignment').getOrCreate()\n",
    "#Installing pandas\n",
    "sc.install_pypi_package(\"pandas==0.25.1\")\n",
    "# Installing matplotlib\n",
    "sc.install_pypi_package(\"matplotlib==3.1.1\", \"https://pypi.org/simple\")\n",
    "# Installing joblibspark\n",
    "sc.install_pypi_package(\"joblibspark\")\n",
    "# Installing latest pip\n",
    "sc.install_pypi_package(\"pip==22.3.1\", \"https://pypi.org/simple\")\n",
    "# Installing scikit-learn\n",
    "sc.install_pypi_package(\"scikit-learn==1.0.2\", \"https://pypi.org/simple\")"
   ]
  },
  {
   "cell_type": "code",
   "execution_count": 4,
   "metadata": {},
   "outputs": [
    {
     "data": {
      "application/vnd.jupyter.widget-view+json": {
       "model_id": "8997b9022bbe417393a43645f27d7548",
       "version_major": 2,
       "version_minor": 0
      },
      "text/plain": [
       "VBox()"
      ]
     },
     "metadata": {},
     "output_type": "display_data"
    },
    {
     "data": {
      "application/vnd.jupyter.widget-view+json": {
       "model_id": "",
       "version_major": 2,
       "version_minor": 0
      },
      "text/plain": [
       "FloatProgress(value=0.0, bar_style='info', description='Progress:', layout=Layout(height='25px', width='50%'),…"
      ]
     },
     "metadata": {},
     "output_type": "display_data"
    }
   ],
   "source": [
    "import pyspark\n",
    "import pandas as pd\n",
    "import math\n",
    "import scipy.stats.stats as stats\n",
    "import pyspark.sql.functions as fun\n",
    "\n",
    "from pyspark.sql.functions import col, countDistinct\n",
    "from functools import reduce\n",
    "from pyspark.sql.window import Window\n",
    "from pyspark.sql.functions import col, when\n",
    "from pyspark.mllib.stat import Statistics\n",
    "from pyspark.sql.functions import lit, coalesce\n",
    "from pyspark.sql import DataFrame\n",
    "from pyspark.sql import functions as F\n",
    "from pyspark.ml.feature import QuantileDiscretizer\n",
    "from pyspark.ml.feature import VectorAssembler\n",
    "from pyspark.ml.classification import LogisticRegression\n",
    "from pyspark.sql.functions import udf\n",
    "from pyspark.sql.types import FloatType\n",
    "from sklearn.metrics import accuracy_score\n",
    "from sklearn.metrics import confusion_matrix\n",
    "from sklearn.metrics import roc_curve\n",
    "from sklearn.metrics import roc_auc_score\n",
    "from sklearn.metrics import precision_recall_curve\n",
    "from sklearn.metrics import f1_score\n",
    "from sklearn.metrics import auc\n",
    "from matplotlib import pyplot\n",
    "import matplotlib.pyplot as plt\n",
    "import numpy as np\n",
    "from pyspark.mllib.evaluation import BinaryClassificationMetrics\n",
    "from pyspark.mllib.regression import LabeledPoint\n",
    "from pyspark.mllib.evaluation import MulticlassMetrics\n",
    "from pyspark.sql.types import DoubleType"
   ]
  },
  {
   "cell_type": "code",
   "execution_count": 5,
   "metadata": {
    "scrolled": true
   },
   "outputs": [
    {
     "data": {
      "application/vnd.jupyter.widget-view+json": {
       "model_id": "e769e50fcd2145ca83b091b910b6c075",
       "version_major": 2,
       "version_minor": 0
      },
      "text/plain": [
       "VBox()"
      ]
     },
     "metadata": {},
     "output_type": "display_data"
    },
    {
     "data": {
      "application/vnd.jupyter.widget-view+json": {
       "model_id": "",
       "version_major": 2,
       "version_minor": 0
      },
      "text/plain": [
       "FloatProgress(value=0.0, bar_style='info', description='Progress:', layout=Layout(height='25px', width='50%'),…"
      ]
     },
     "metadata": {},
     "output_type": "display_data"
    },
    {
     "name": "stdout",
     "output_type": "stream",
     "text": [
      "(1048575, 3)\n",
      "(438557, 18)\n",
      "[('ID', 'int'), ('MONTHS_BALANCE', 'int'), ('STATUS', 'string')]\n",
      "[('ID', 'int'), ('CODE_GENDER', 'string'), ('FLAG_OWN_CAR', 'string'), ('FLAG_OWN_REALTY', 'string'), ('CNT_CHILDREN', 'int'), ('AMT_INCOME_TOTAL', 'double'), ('NAME_INCOME_TYPE', 'string'), ('NAME_EDUCATION_TYPE', 'string'), ('NAME_FAMILY_STATUS', 'string'), ('NAME_HOUSING_TYPE', 'string'), ('DAYS_BIRTH', 'int'), ('DAYS_EMPLOYED', 'int'), ('FLAG_MOBIL', 'int'), ('FLAG_WORK_PHONE', 'int'), ('FLAG_PHONE', 'int'), ('FLAG_EMAIL', 'int'), ('OCCUPATION_TYPE', 'string'), ('CNT_FAM_MEMBERS', 'double')]\n",
      "+-------+--------------+------+\n",
      "|     ID|MONTHS_BALANCE|STATUS|\n",
      "+-------+--------------+------+\n",
      "|5001711|             0|     X|\n",
      "|5001711|            -1|     0|\n",
      "|5001711|            -2|     0|\n",
      "|5001711|            -3|     0|\n",
      "|5001712|             0|     C|\n",
      "|5001712|            -1|     C|\n",
      "|5001712|            -2|     C|\n",
      "|5001712|            -3|     C|\n",
      "|5001712|            -4|     C|\n",
      "|5001712|            -5|     C|\n",
      "|5001712|            -6|     C|\n",
      "|5001712|            -7|     C|\n",
      "|5001712|            -8|     C|\n",
      "|5001712|            -9|     0|\n",
      "|5001712|           -10|     0|\n",
      "|5001712|           -11|     0|\n",
      "|5001712|           -12|     0|\n",
      "|5001712|           -13|     0|\n",
      "|5001712|           -14|     0|\n",
      "|5001712|           -15|     0|\n",
      "+-------+--------------+------+\n",
      "only showing top 20 rows"
     ]
    }
   ],
   "source": [
    "#Reading Data from a CSV file and inferring Schema and Setting Header as True\n",
    "\n",
    "credit_rec = spark.read.csv(\"s3://sqoop.oozie.ml/credit_record.csv\",header = True, inferSchema = True)\n",
    "credit_app = spark.read.csv(\"s3://sqoop.oozie.ml/application_record.csv\", header = True, inferSchema = True)\n",
    "def spark_shape(self):\n",
    "    return (self.count(), len(self.columns))\n",
    "\n",
    "pyspark.sql.dataframe.DataFrame.shape = spark_shape\n",
    "\n",
    "print(credit_rec.shape())\n",
    "print(credit_app.shape())\n",
    "\n",
    "print(credit_rec.dtypes)\n",
    "print(credit_app.dtypes)\n",
    "credit_rec.show()"
   ]
  },
  {
   "cell_type": "code",
   "execution_count": 6,
   "metadata": {},
   "outputs": [
    {
     "data": {
      "application/vnd.jupyter.widget-view+json": {
       "model_id": "cec14bd76f6548e6bffdf81b1736df4e",
       "version_major": 2,
       "version_minor": 0
      },
      "text/plain": [
       "VBox()"
      ]
     },
     "metadata": {},
     "output_type": "display_data"
    },
    {
     "data": {
      "application/vnd.jupyter.widget-view+json": {
       "model_id": "",
       "version_major": 2,
       "version_minor": 0
      },
      "text/plain": [
       "FloatProgress(value=0.0, bar_style='info', description='Progress:', layout=Layout(height='25px', width='50%'),…"
      ]
     },
     "metadata": {},
     "output_type": "display_data"
    },
    {
     "name": "stdout",
     "output_type": "stream",
     "text": [
      "+----------+\n",
      "|Applicants|\n",
      "+----------+\n",
      "|    438510|\n",
      "+----------+\n",
      "\n",
      "+------------+\n",
      "|CC-customers|\n",
      "+------------+\n",
      "|       45985|\n",
      "+------------+\n",
      "\n",
      "+-------+----+----+----+----+----+----+----+----+\n",
      "|     ID|   0|   1|   2|   3|   4|   5|   C|   X|\n",
      "+-------+----+----+----+----+----+----+----+----+\n",
      "|5003485|  14|   1|null|null|null|null|null|   2|\n",
      "|5010236|   6|   1|null|null|null|null|   8|null|\n",
      "|5054355|   5|null|null|null|null|null|  12|   1|\n",
      "|5090249|   3|null|null|null|null|null|null|null|\n",
      "|5041062|  13|null|null|null|null|null|  11|   5|\n",
      "|5125237|   4|null|null|null|null|null|null|   1|\n",
      "|5116308|  36|null|null|null|null|null|null|   1|\n",
      "|5024813|   2|   1|null|null|null|null|  15|   1|\n",
      "|5067946|   1|null|null|null|null|null|  14|   1|\n",
      "|5094896|   5|null|null|null|null|null|  48|null|\n",
      "|5023678|  34|null|null|null|null|null|   9|   2|\n",
      "|5002975|   5|null|null|null|null|null|  19|   4|\n",
      "|5099999|   4|null|null|null|null|null|  14|   1|\n",
      "|5145938|  19|null|null|null|null|null|null|   1|\n",
      "|5017133|null|null|null|null|null|null|null|  30|\n",
      "|5016881|   7|null|null|null|null|null|  37|null|\n",
      "|5091767|   1|null|null|null|null|null|null|   2|\n",
      "|5104941|  13|   1|null|null|null|null|  34|null|\n",
      "|5095916|   1|null|null|null|null|null|null|   1|\n",
      "|5121919|  15|null|null|null|null|null|null|  25|\n",
      "+-------+----+----+----+----+----+----+----+----+\n",
      "only showing top 20 rows"
     ]
    }
   ],
   "source": [
    "# Number of distinct applications \n",
    "credit_app.agg(countDistinct(col(\"ID\")).alias(\"Applicants\")).show()\n",
    "\n",
    "#Number of distinct credit card customers\n",
    "credit_rec.agg(countDistinct(col(\"ID\")).alias(\"CC-customers\")).show()\n",
    "\n",
    "#Pivot the monthly status to get customer view\n",
    "credit_rec_pivot = credit_rec.groupBy(\"ID\").pivot(\"STATUS\").agg(fun.count('ID'))\n",
    "credit_rec_pivot.show()"
   ]
  },
  {
   "cell_type": "code",
   "execution_count": 7,
   "metadata": {},
   "outputs": [
    {
     "data": {
      "application/vnd.jupyter.widget-view+json": {
       "model_id": "f222b08c7ddf44b68020e1d31b661e06",
       "version_major": 2,
       "version_minor": 0
      },
      "text/plain": [
       "VBox()"
      ]
     },
     "metadata": {},
     "output_type": "display_data"
    },
    {
     "data": {
      "application/vnd.jupyter.widget-view+json": {
       "model_id": "",
       "version_major": 2,
       "version_minor": 0
      },
      "text/plain": [
       "FloatProgress(value=0.0, bar_style='info', description='Progress:', layout=Layout(height='25px', width='50%'),…"
      ]
     },
     "metadata": {},
     "output_type": "display_data"
    },
    {
     "name": "stdout",
     "output_type": "stream",
     "text": [
      "+-------+------+------+------+------+------+------+------+------+\n",
      "|     ID|stat_0|stat_1|stat_2|stat_3|stat_4|stat_5|stat_C|stat_X|\n",
      "+-------+------+------+------+------+------+------+------+------+\n",
      "|5003485|    14|     1|  null|  null|  null|  null|  null|     2|\n",
      "|5010236|     6|     1|  null|  null|  null|  null|     8|  null|\n",
      "|5054355|     5|  null|  null|  null|  null|  null|    12|     1|\n",
      "|5090249|     3|  null|  null|  null|  null|  null|  null|  null|\n",
      "|5041062|    13|  null|  null|  null|  null|  null|    11|     5|\n",
      "|5125237|     4|  null|  null|  null|  null|  null|  null|     1|\n",
      "|5116308|    36|  null|  null|  null|  null|  null|  null|     1|\n",
      "|5024813|     2|     1|  null|  null|  null|  null|    15|     1|\n",
      "|5067946|     1|  null|  null|  null|  null|  null|    14|     1|\n",
      "|5094896|     5|  null|  null|  null|  null|  null|    48|  null|\n",
      "|5023678|    34|  null|  null|  null|  null|  null|     9|     2|\n",
      "|5002975|     5|  null|  null|  null|  null|  null|    19|     4|\n",
      "|5099999|     4|  null|  null|  null|  null|  null|    14|     1|\n",
      "|5145938|    19|  null|  null|  null|  null|  null|  null|     1|\n",
      "|5017133|  null|  null|  null|  null|  null|  null|  null|    30|\n",
      "|5016881|     7|  null|  null|  null|  null|  null|    37|  null|\n",
      "|5091767|     1|  null|  null|  null|  null|  null|  null|     2|\n",
      "|5104941|    13|     1|  null|  null|  null|  null|    34|  null|\n",
      "|5095916|     1|  null|  null|  null|  null|  null|  null|     1|\n",
      "|5121919|    15|  null|  null|  null|  null|  null|  null|    25|\n",
      "+-------+------+------+------+------+------+------+------+------+\n",
      "only showing top 20 rows"
     ]
    }
   ],
   "source": [
    "#rename of pivoted columns\n",
    "oldColumns = credit_rec_pivot.schema.names\n",
    "newColumns = [\"ID\",\"stat_0\",\"stat_1\",\"stat_2\",\"stat_3\",\"stat_4\",\"stat_5\",\"stat_C\",\"stat_X\"]\n",
    "credit_rec_pivot = reduce(lambda data, idx: data.withColumnRenamed(oldColumns[idx], newColumns[idx]), range(len(oldColumns)), credit_rec_pivot)\n",
    "credit_rec_pivot.show()\n",
    "\n",
    "#Delete column \n",
    "DelCols = [\"stat_2\",\"stat_3\",\"stat_4\",\"stat_5\"]"
   ]
  },
  {
   "cell_type": "code",
   "execution_count": 8,
   "metadata": {},
   "outputs": [
    {
     "data": {
      "application/vnd.jupyter.widget-view+json": {
       "model_id": "4f21d21e09eb46799c76d2db33be7b7f",
       "version_major": 2,
       "version_minor": 0
      },
      "text/plain": [
       "VBox()"
      ]
     },
     "metadata": {},
     "output_type": "display_data"
    },
    {
     "data": {
      "application/vnd.jupyter.widget-view+json": {
       "model_id": "",
       "version_major": 2,
       "version_minor": 0
      },
      "text/plain": [
       "FloatProgress(value=0.0, bar_style='info', description='Progress:', layout=Layout(height='25px', width='50%'),…"
      ]
     },
     "metadata": {},
     "output_type": "display_data"
    },
    {
     "name": "stdout",
     "output_type": "stream",
     "text": [
      "+-------+------+------+------+------+------+------+------+------+---------+\n",
      "|     ID|stat_0|stat_1|stat_2|stat_3|stat_4|stat_5|stat_C|stat_X|total_del|\n",
      "+-------+------+------+------+------+------+------+------+------+---------+\n",
      "|5003485|    14|     1|     0|     0|     0|     0|     0|     2|        0|\n",
      "|5010236|     6|     1|     0|     0|     0|     0|     8|     0|        0|\n",
      "|5054355|     5|     0|     0|     0|     0|     0|    12|     1|        0|\n",
      "|5090249|     3|     0|     0|     0|     0|     0|     0|     0|        0|\n",
      "|5041062|    13|     0|     0|     0|     0|     0|    11|     5|        0|\n",
      "|5125237|     4|     0|     0|     0|     0|     0|     0|     1|        0|\n",
      "|5116308|    36|     0|     0|     0|     0|     0|     0|     1|        0|\n",
      "|5024813|     2|     1|     0|     0|     0|     0|    15|     1|        0|\n",
      "|5067946|     1|     0|     0|     0|     0|     0|    14|     1|        0|\n",
      "|5094896|     5|     0|     0|     0|     0|     0|    48|     0|        0|\n",
      "|5023678|    34|     0|     0|     0|     0|     0|     9|     2|        0|\n",
      "|5002975|     5|     0|     0|     0|     0|     0|    19|     4|        0|\n",
      "|5099999|     4|     0|     0|     0|     0|     0|    14|     1|        0|\n",
      "|5145938|    19|     0|     0|     0|     0|     0|     0|     1|        0|\n",
      "|5017133|     0|     0|     0|     0|     0|     0|     0|    30|        0|\n",
      "|5016881|     7|     0|     0|     0|     0|     0|    37|     0|        0|\n",
      "|5091767|     1|     0|     0|     0|     0|     0|     0|     2|        0|\n",
      "|5104941|    13|     1|     0|     0|     0|     0|    34|     0|        0|\n",
      "|5095916|     1|     0|     0|     0|     0|     0|     0|     1|        0|\n",
      "|5121919|    15|     0|     0|     0|     0|     0|     0|    25|        0|\n",
      "+-------+------+------+------+------+------+------+------+------+---------+\n",
      "only showing top 20 rows\n",
      "\n",
      "+-------+------+------+------+------+------+------+------+------+---------+------+\n",
      "|     ID|stat_0|stat_1|stat_2|stat_3|stat_4|stat_5|stat_C|stat_X|total_del|target|\n",
      "+-------+------+------+------+------+------+------+------+------+---------+------+\n",
      "|5003485|    14|     1|     0|     0|     0|     0|     0|     2|        0|     0|\n",
      "|5010236|     6|     1|     0|     0|     0|     0|     8|     0|        0|     0|\n",
      "|5054355|     5|     0|     0|     0|     0|     0|    12|     1|        0|     0|\n",
      "|5090249|     3|     0|     0|     0|     0|     0|     0|     0|        0|     0|\n",
      "|5041062|    13|     0|     0|     0|     0|     0|    11|     5|        0|     0|\n",
      "|5125237|     4|     0|     0|     0|     0|     0|     0|     1|        0|     0|\n",
      "|5116308|    36|     0|     0|     0|     0|     0|     0|     1|        0|     0|\n",
      "|5024813|     2|     1|     0|     0|     0|     0|    15|     1|        0|     0|\n",
      "|5067946|     1|     0|     0|     0|     0|     0|    14|     1|        0|     0|\n",
      "|5094896|     5|     0|     0|     0|     0|     0|    48|     0|        0|     0|\n",
      "|5023678|    34|     0|     0|     0|     0|     0|     9|     2|        0|     0|\n",
      "|5002975|     5|     0|     0|     0|     0|     0|    19|     4|        0|     0|\n",
      "|5099999|     4|     0|     0|     0|     0|     0|    14|     1|        0|     0|\n",
      "|5145938|    19|     0|     0|     0|     0|     0|     0|     1|        0|     0|\n",
      "|5017133|     0|     0|     0|     0|     0|     0|     0|    30|        0|     0|\n",
      "|5016881|     7|     0|     0|     0|     0|     0|    37|     0|        0|     0|\n",
      "|5091767|     1|     0|     0|     0|     0|     0|     0|     2|        0|     0|\n",
      "|5104941|    13|     1|     0|     0|     0|     0|    34|     0|        0|     0|\n",
      "|5095916|     1|     0|     0|     0|     0|     0|     0|     1|        0|     0|\n",
      "|5121919|    15|     0|     0|     0|     0|     0|     0|    25|        0|     0|\n",
      "+-------+------+------+------+------+------+------+------+------+---------+------+\n",
      "only showing top 20 rows\n",
      "\n",
      "+------+-----+\n",
      "|target|count|\n",
      "+------+-----+\n",
      "|     1|  667|\n",
      "|     0|45318|\n",
      "+------+-----+"
     ]
    }
   ],
   "source": [
    "def cols_add(a,b):\n",
    "    return a.__add__(b)\n",
    "\n",
    "credit_rec_pivot = credit_rec_pivot.na.fill(0)\n",
    "credit_rec_pivot = credit_rec_pivot.withColumn('total_del', reduce(cols_add, ( credit_rec_pivot[col] for col in DelCols ) ))\n",
    "credit_rec_pivot.show()\n",
    "\n",
    "\n",
    "#Create target variable\n",
    "credit_rec_pivot = credit_rec_pivot.withColumn('target', fun.when(fun.col('total_del') > 0, 1).otherwise(0))\n",
    "credit_rec_pivot.show()\n",
    "\n",
    "credit_rec_pivot.groupby('target').count().show()"
   ]
  },
  {
   "cell_type": "code",
   "execution_count": 9,
   "metadata": {},
   "outputs": [
    {
     "data": {
      "application/vnd.jupyter.widget-view+json": {
       "model_id": "bce413bd90f247229c771d877d8591dc",
       "version_major": 2,
       "version_minor": 0
      },
      "text/plain": [
       "VBox()"
      ]
     },
     "metadata": {},
     "output_type": "display_data"
    },
    {
     "data": {
      "application/vnd.jupyter.widget-view+json": {
       "model_id": "",
       "version_major": 2,
       "version_minor": 0
      },
      "text/plain": [
       "FloatProgress(value=0.0, bar_style='info', description='Progress:', layout=Layout(height='25px', width='50%'),…"
      ]
     },
     "metadata": {},
     "output_type": "display_data"
    },
    {
     "name": "stdout",
     "output_type": "stream",
     "text": [
      "(36457, 19)\n",
      "(25134, 19)"
     ]
    }
   ],
   "source": [
    "#Merging the dataframes\n",
    "\n",
    "merged_Credit_app_records = credit_rec_pivot.join(credit_app.alias('b'), credit_rec_pivot.ID == credit_app.ID, 'inner').select('b.*', credit_rec_pivot.target)\n",
    "print(merged_Credit_app_records.shape())\n",
    "merged_Credit_app_records = merged_Credit_app_records.na.drop()\n",
    "print(merged_Credit_app_records.shape())"
   ]
  },
  {
   "cell_type": "markdown",
   "metadata": {},
   "source": [
    "### What is the proportion of females in the applicant customer base ?"
   ]
  },
  {
   "cell_type": "code",
   "execution_count": 10,
   "metadata": {},
   "outputs": [
    {
     "data": {
      "application/vnd.jupyter.widget-view+json": {
       "model_id": "321d70e5e405423b8123b440415f2f1d",
       "version_major": 2,
       "version_minor": 0
      },
      "text/plain": [
       "VBox()"
      ]
     },
     "metadata": {},
     "output_type": "display_data"
    },
    {
     "data": {
      "application/vnd.jupyter.widget-view+json": {
       "model_id": "",
       "version_major": 2,
       "version_minor": 0
      },
      "text/plain": [
       "FloatProgress(value=0.0, bar_style='info', description='Progress:', layout=Layout(height='25px', width='50%'),…"
      ]
     },
     "metadata": {},
     "output_type": "display_data"
    },
    {
     "name": "stdout",
     "output_type": "stream",
     "text": [
      "+-----------+------+-----------------+\n",
      "|CODE_GENDER| count|     proportion %|\n",
      "+-----------+------+-----------------+\n",
      "|          M|144117|32.86163486160294|\n",
      "|          F|294440|67.13836513839706|\n",
      "+-----------+------+-----------------+"
     ]
    }
   ],
   "source": [
    "count_gender = credit_app.groupBy('CODE_GENDER').count().orderBy('count')\n",
    "count_gender = count_gender.withColumn('proportion %', fun.col('count')*100/fun.sum('count').over(Window.partitionBy()))\n",
    "count_gender.show()"
   ]
  },
  {
   "cell_type": "markdown",
   "metadata": {},
   "source": [
    "### Is house ownership higher among male applicants vs female applicants"
   ]
  },
  {
   "cell_type": "code",
   "execution_count": 11,
   "metadata": {
    "scrolled": true
   },
   "outputs": [
    {
     "data": {
      "application/vnd.jupyter.widget-view+json": {
       "model_id": "7432525272cf40048baaa887d9da23df",
       "version_major": 2,
       "version_minor": 0
      },
      "text/plain": [
       "VBox()"
      ]
     },
     "metadata": {},
     "output_type": "display_data"
    },
    {
     "data": {
      "application/vnd.jupyter.widget-view+json": {
       "model_id": "",
       "version_major": 2,
       "version_minor": 0
      },
      "text/plain": [
       "FloatProgress(value=0.0, bar_style='info', description='Progress:', layout=Layout(height='25px', width='50%'),…"
      ]
     },
     "metadata": {},
     "output_type": "display_data"
    },
    {
     "name": "stdout",
     "output_type": "stream",
     "text": [
      "+-----------------------------+------+------+\n",
      "|NAME_HOUSING_TYPE_CODE_GENDER|     F|     M|\n",
      "+-----------------------------+------+------+\n",
      "|             Rented apartment|  3284|  2690|\n",
      "|          Municipal apartment| 10019|  4195|\n",
      "|             Office apartment|  2122|  1800|\n",
      "|            House / apartment|267607|126224|\n",
      "|              Co-op apartment|   862|   677|\n",
      "|                 With parents| 10546|  8531|\n",
      "+-----------------------------+------+------+\n",
      "\n",
      "+-----------------------------+------+------+--------------------+--------------------+\n",
      "|NAME_HOUSING_TYPE_CODE_GENDER|     F|     M|              prop_F|              prop_M|\n",
      "+-----------------------------+------+------+--------------------+--------------------+\n",
      "|             Rented apartment|  3284|  2690|0.011153375900013585|0.018665389926240485|\n",
      "|          Municipal apartment| 10019|  4195| 0.03402730607254449|0.029108293955605515|\n",
      "|             Office apartment|  2122|  1800|0.007206901236245...|0.012489851995253856|\n",
      "|            House / apartment|267607|126224|  0.9088676810216003|  0.8758439323605126|\n",
      "|              Co-op apartment|   862|   677|0.002927591359869583|0.004697572111548...|\n",
      "|                 With parents| 10546|  8531| 0.03581714440972694| 0.05919495965083925|\n",
      "+-----------------------------+------+------+--------------------+--------------------+"
     ]
    }
   ],
   "source": [
    "credit_app_pivoted = credit_app.crosstab('NAME_HOUSING_TYPE','CODE_GENDER')\n",
    "credit_app_pivoted.show()\n",
    "\n",
    "credit_app_pivoted = credit_app_pivoted.withColumn('prop_F', fun.col('F')/fun.sum('F').over(Window.partitionBy()))\n",
    "credit_app_pivoted = credit_app_pivoted.withColumn('prop_M', fun.col('M')/fun.sum('M').over(Window.partitionBy()))\n",
    "\n",
    "credit_app_pivoted.show()"
   ]
  },
  {
   "cell_type": "markdown",
   "metadata": {},
   "source": [
    "### Is there any correlation between income levels and education level?"
   ]
  },
  {
   "cell_type": "code",
   "execution_count": 12,
   "metadata": {},
   "outputs": [
    {
     "data": {
      "application/vnd.jupyter.widget-view+json": {
       "model_id": "b8186c16eb55431ab8b9c34aa3e71807",
       "version_major": 2,
       "version_minor": 0
      },
      "text/plain": [
       "VBox()"
      ]
     },
     "metadata": {},
     "output_type": "display_data"
    },
    {
     "data": {
      "application/vnd.jupyter.widget-view+json": {
       "model_id": "",
       "version_major": 2,
       "version_minor": 0
      },
      "text/plain": [
       "FloatProgress(value=0.0, bar_style='info', description='Progress:', layout=Layout(height='25px', width='50%'),…"
      ]
     },
     "metadata": {},
     "output_type": "display_data"
    },
    {
     "name": "stdout",
     "output_type": "stream",
     "text": [
      "                         AMT_INCOME_TOTAL  NAME_EDUCATION_TYPE_cat\n",
      "AMT_INCOME_TOTAL                 1.000000                 0.221403\n",
      "NAME_EDUCATION_TYPE_cat          0.221403                 1.000000"
     ]
    }
   ],
   "source": [
    "# lower secondary = 0, secondary / secondary spl = 1, Incomplete higher = 2, Higher education = 3, Academic degree = 4\n",
    "credit_app = credit_app.withColumn(\"NAME_EDUCATION_TYPE_cat\", when(col(\"NAME_EDUCATION_TYPE\")=='Lower secondary', 0).when(col(\"NAME_EDUCATION_TYPE\")=='Secondary / secondary special', 1).when(col(\"NAME_EDUCATION_TYPE\")=='Incomplete higher', 2).when(col(\"NAME_EDUCATION_TYPE\")=='Higher education', 3).when(col(\"NAME_EDUCATION_TYPE\")=='Academic degree', 4))\n",
    "\n",
    "corl_data = credit_app.select('AMT_INCOME_TOTAL', 'NAME_EDUCATION_TYPE_cat')\n",
    "\n",
    "col_names = corl_data.columns\n",
    "features = corl_data.rdd.map(lambda row: row[0:])\n",
    "corl_mat=Statistics.corr(features, method=\"pearson\")\n",
    "corl_d = pd.DataFrame(corl_mat)\n",
    "corl_d.index, corl_d.columns = col_names, col_names\n",
    "print(corl_d.to_string())"
   ]
  },
  {
   "cell_type": "markdown",
   "metadata": {},
   "source": [
    "### What is the average and median salary of the applicant base?"
   ]
  },
  {
   "cell_type": "code",
   "execution_count": 13,
   "metadata": {},
   "outputs": [
    {
     "data": {
      "application/vnd.jupyter.widget-view+json": {
       "model_id": "49d6cd01e0174d0badbf99f17abddb96",
       "version_major": 2,
       "version_minor": 0
      },
      "text/plain": [
       "VBox()"
      ]
     },
     "metadata": {},
     "output_type": "display_data"
    },
    {
     "data": {
      "application/vnd.jupyter.widget-view+json": {
       "model_id": "",
       "version_major": 2,
       "version_minor": 0
      },
      "text/plain": [
       "FloatProgress(value=0.0, bar_style='info', description='Progress:', layout=Layout(height='25px', width='50%'),…"
      ]
     },
     "metadata": {},
     "output_type": "display_data"
    },
    {
     "name": "stdout",
     "output_type": "stream",
     "text": [
      "+-------+------------------+\n",
      "|summary|  AMT_INCOME_TOTAL|\n",
      "+-------+------------------+\n",
      "|  count|            438557|\n",
      "|   mean|187524.28600950394|\n",
      "| stddev|110086.85306622952|\n",
      "|    min|           26100.0|\n",
      "|    max|         6750000.0|\n",
      "+-------+------------------+\n",
      "\n",
      "[160780.5]"
     ]
    }
   ],
   "source": [
    "# Computing the mean\n",
    "credit_app.select('AMT_INCOME_TOTAL').describe().show()\n",
    "# Computing the median\n",
    "credit_app.approxQuantile(\"AMT_INCOME_TOTAL\", [0.5], 0)"
   ]
  },
  {
   "cell_type": "markdown",
   "metadata": {},
   "source": [
    "### Do people owning cars have higher probability of bad customers ?"
   ]
  },
  {
   "cell_type": "code",
   "execution_count": 14,
   "metadata": {},
   "outputs": [
    {
     "data": {
      "application/vnd.jupyter.widget-view+json": {
       "model_id": "0553263f64e24dcf8f0a1751ec5ced12",
       "version_major": 2,
       "version_minor": 0
      },
      "text/plain": [
       "VBox()"
      ]
     },
     "metadata": {},
     "output_type": "display_data"
    },
    {
     "data": {
      "application/vnd.jupyter.widget-view+json": {
       "model_id": "",
       "version_major": 2,
       "version_minor": 0
      },
      "text/plain": [
       "FloatProgress(value=0.0, bar_style='info', description='Progress:', layout=Layout(height='25px', width='50%'),…"
      ]
     },
     "metadata": {},
     "output_type": "display_data"
    },
    {
     "name": "stdout",
     "output_type": "stream",
     "text": [
      "+------------+---+-----+\n",
      "|FLAG_OWN_CAR|  1|    0|\n",
      "+------------+---+-----+\n",
      "|           Y|177|10339|\n",
      "|           N|245|14373|\n",
      "+------------+---+-----+\n",
      "\n",
      "+------------+--------------------+------------------+\n",
      "|FLAG_OWN_CAR|                   1|                 0|\n",
      "+------------+--------------------+------------------+\n",
      "|           Y| 0.01683149486496767|0.9831685051350323|\n",
      "|           N|0.016760158708441646|0.9832398412915584|\n",
      "+------------+--------------------+------------------+"
     ]
    }
   ],
   "source": [
    "target_car_customers = merged_Credit_app_records.groupby('FLAG_OWN_CAR', 'target').count().orderBy('FLAG_OWN_CAR')\n",
    "\n",
    "pivoted = merged_Credit_app_records.groupby('FLAG_OWN_CAR').pivot(\"target\", ['1', '0']).count()\n",
    "\n",
    "pivoted.show()\n",
    "\n",
    "row_count = sum(col(x) for x in ['1', '0'])\n",
    "\n",
    "adjusted = [(col(y) / row_count).alias(y) for y in ['1', '0']]\n",
    "\n",
    "pivoted.select(col(\"FLAG_OWN_CAR\"), *adjusted).show()"
   ]
  },
  {
   "cell_type": "markdown",
   "metadata": {},
   "source": [
    "### Do people living on rent have a higher proportion of bad customers as compared to the rest of the population"
   ]
  },
  {
   "cell_type": "code",
   "execution_count": 15,
   "metadata": {},
   "outputs": [
    {
     "data": {
      "application/vnd.jupyter.widget-view+json": {
       "model_id": "86fa0c15cf31473086fda1c4af77ff86",
       "version_major": 2,
       "version_minor": 0
      },
      "text/plain": [
       "VBox()"
      ]
     },
     "metadata": {},
     "output_type": "display_data"
    },
    {
     "data": {
      "application/vnd.jupyter.widget-view+json": {
       "model_id": "",
       "version_major": 2,
       "version_minor": 0
      },
      "text/plain": [
       "FloatProgress(value=0.0, bar_style='info', description='Progress:', layout=Layout(height='25px', width='50%'),…"
      ]
     },
     "metadata": {},
     "output_type": "display_data"
    },
    {
     "name": "stdout",
     "output_type": "stream",
     "text": [
      "+-------------------+\n",
      "|  NAME_HOUSING_TYPE|\n",
      "+-------------------+\n",
      "|Municipal apartment|\n",
      "|   Rented apartment|\n",
      "|  House / apartment|\n",
      "|    Co-op apartment|\n",
      "|   Office apartment|\n",
      "|       With parents|\n",
      "+-------------------+"
     ]
    }
   ],
   "source": [
    "merged_Credit_app_records.select(\"NAME_HOUSING_TYPE\").distinct().show()"
   ]
  },
  {
   "cell_type": "code",
   "execution_count": 16,
   "metadata": {},
   "outputs": [
    {
     "data": {
      "application/vnd.jupyter.widget-view+json": {
       "model_id": "2551c76c856840bdaaf7a4d654466093",
       "version_major": 2,
       "version_minor": 0
      },
      "text/plain": [
       "VBox()"
      ]
     },
     "metadata": {},
     "output_type": "display_data"
    },
    {
     "data": {
      "application/vnd.jupyter.widget-view+json": {
       "model_id": "",
       "version_major": 2,
       "version_minor": 0
      },
      "text/plain": [
       "FloatProgress(value=0.0, bar_style='info', description='Progress:', layout=Layout(height='25px', width='50%'),…"
      ]
     },
     "metadata": {},
     "output_type": "display_data"
    },
    {
     "name": "stdout",
     "output_type": "stream",
     "text": [
      "+-----------------+---+-----+\n",
      "|RENT_HOUSING_TYPE|  1|    0|\n",
      "+-----------------+---+-----+\n",
      "|         Not Rent|416|24279|\n",
      "|             Rent|  6|  433|\n",
      "+-----------------+---+-----+\n",
      "\n",
      "+-----------------+--------------------+------------------+\n",
      "|RENT_HOUSING_TYPE|                   1|                 0|\n",
      "+-----------------+--------------------+------------------+\n",
      "|         Not Rent|0.016845515286495243|0.9831544847135048|\n",
      "|             Rent| 0.01366742596810934|0.9863325740318907|\n",
      "+-----------------+--------------------+------------------+"
     ]
    }
   ],
   "source": [
    "merged_Credit_app_records = merged_Credit_app_records.withColumn('RENT_HOUSING_TYPE', fun.when(fun.col('NAME_HOUSING_TYPE') == 'Rented apartment', 'Rent').otherwise('Not Rent'))\n",
    "\n",
    "target_rent_customers = merged_Credit_app_records.groupby('RENT_HOUSING_TYPE', 'target').count().orderBy('RENT_HOUSING_TYPE')\n",
    "\n",
    "pivoted_data = merged_Credit_app_records.groupby('RENT_HOUSING_TYPE').pivot(\"target\", ['1', '0']).count()\n",
    "\n",
    "pivoted_data.show()\n",
    "\n",
    "pivoted_data.select(col(\"RENT_HOUSING_TYPE\"), *adjusted).show()"
   ]
  },
  {
   "cell_type": "markdown",
   "metadata": {},
   "source": [
    "### Do single people have a high proportion of bad customers as compared to married customers ?"
   ]
  },
  {
   "cell_type": "code",
   "execution_count": 17,
   "metadata": {},
   "outputs": [
    {
     "data": {
      "application/vnd.jupyter.widget-view+json": {
       "model_id": "852fed0abf074be980dafb3ff98a6aec",
       "version_major": 2,
       "version_minor": 0
      },
      "text/plain": [
       "VBox()"
      ]
     },
     "metadata": {},
     "output_type": "display_data"
    },
    {
     "data": {
      "application/vnd.jupyter.widget-view+json": {
       "model_id": "",
       "version_major": 2,
       "version_minor": 0
      },
      "text/plain": [
       "FloatProgress(value=0.0, bar_style='info', description='Progress:', layout=Layout(height='25px', width='50%'),…"
      ]
     },
     "metadata": {},
     "output_type": "display_data"
    },
    {
     "name": "stdout",
     "output_type": "stream",
     "text": [
      "+--------------------+\n",
      "|  NAME_FAMILY_STATUS|\n",
      "+--------------------+\n",
      "|           Separated|\n",
      "|             Married|\n",
      "|Single / not married|\n",
      "|      Civil marriage|\n",
      "|               Widow|\n",
      "+--------------------+"
     ]
    }
   ],
   "source": [
    "merged_Credit_app_records.select(\"NAME_FAMILY_STATUS\").distinct().show()"
   ]
  },
  {
   "cell_type": "code",
   "execution_count": 18,
   "metadata": {},
   "outputs": [
    {
     "data": {
      "application/vnd.jupyter.widget-view+json": {
       "model_id": "6b2ce8c0bcc246bd8267882cd6f710f9",
       "version_major": 2,
       "version_minor": 0
      },
      "text/plain": [
       "VBox()"
      ]
     },
     "metadata": {},
     "output_type": "display_data"
    },
    {
     "data": {
      "application/vnd.jupyter.widget-view+json": {
       "model_id": "",
       "version_major": 2,
       "version_minor": 0
      },
      "text/plain": [
       "FloatProgress(value=0.0, bar_style='info', description='Progress:', layout=Layout(height='25px', width='50%'),…"
      ]
     },
     "metadata": {},
     "output_type": "display_data"
    }
   ],
   "source": [
    "merged_Credit_app_records = merged_Credit_app_records.withColumn('MARRIED_STATUS', fun.when(fun.col('NAME_FAMILY_STATUS') == 'Married', 'Married').otherwise('Unmarried'))\n"
   ]
  },
  {
   "cell_type": "code",
   "execution_count": 19,
   "metadata": {},
   "outputs": [
    {
     "data": {
      "application/vnd.jupyter.widget-view+json": {
       "model_id": "962e22139a594374a63c853f41a52f8f",
       "version_major": 2,
       "version_minor": 0
      },
      "text/plain": [
       "VBox()"
      ]
     },
     "metadata": {},
     "output_type": "display_data"
    },
    {
     "data": {
      "application/vnd.jupyter.widget-view+json": {
       "model_id": "",
       "version_major": 2,
       "version_minor": 0
      },
      "text/plain": [
       "FloatProgress(value=0.0, bar_style='info', description='Progress:', layout=Layout(height='25px', width='50%'),…"
      ]
     },
     "metadata": {},
     "output_type": "display_data"
    },
    {
     "name": "stdout",
     "output_type": "stream",
     "text": [
      "+--------------+---+-----+\n",
      "|MARRIED_STATUS|  1|    0|\n",
      "+--------------+---+-----+\n",
      "|       Married|277|17232|\n",
      "|     Unmarried|145| 7480|\n",
      "+--------------+---+-----+\n",
      "\n",
      "+--------------+-------------------+------------------+\n",
      "|MARRIED_STATUS|                  1|                 0|\n",
      "+--------------+-------------------+------------------+\n",
      "|       Married|0.01582043520475184|0.9841795647952482|\n",
      "|     Unmarried|0.01901639344262295| 0.980983606557377|\n",
      "+--------------+-------------------+------------------+"
     ]
    }
   ],
   "source": [
    "target_married_customers = merged_Credit_app_records.groupby('MARRIED_STATUS', 'target').count().orderBy('MARRIED_STATUS')\n",
    "\n",
    "pivoted_data = merged_Credit_app_records.groupby('MARRIED_STATUS').pivot(\"target\", ['1', '0']).count()\n",
    "\n",
    "pivoted_data.show()\n",
    "\n",
    "pivoted_data.select(col(\"MARRIED_STATUS\"), *adjusted).show()"
   ]
  },
  {
   "cell_type": "code",
   "execution_count": 20,
   "metadata": {},
   "outputs": [
    {
     "data": {
      "application/vnd.jupyter.widget-view+json": {
       "model_id": "773701e344fa485cad4842d07e5f5a3a",
       "version_major": 2,
       "version_minor": 0
      },
      "text/plain": [
       "VBox()"
      ]
     },
     "metadata": {},
     "output_type": "display_data"
    },
    {
     "data": {
      "application/vnd.jupyter.widget-view+json": {
       "model_id": "",
       "version_major": 2,
       "version_minor": 0
      },
      "text/plain": [
       "FloatProgress(value=0.0, bar_style='info', description='Progress:', layout=Layout(height='25px', width='50%'),…"
      ]
     },
     "metadata": {},
     "output_type": "display_data"
    }
   ],
   "source": [
    "# WOE & IV calculation by creating a class\n",
    "\n",
    "class WOE_IV(object):\n",
    "    def __init__(self, df: DataFrame, cols_to_woe: [str], label_column: str, good_label: str):\n",
    "        self.df = df\n",
    "        self.cols_to_woe = cols_to_woe\n",
    "        self.label_column = label_column\n",
    "        self.good_label = good_label\n",
    "        self.fit_data = {}\n",
    "\n",
    "    def fit(self):\n",
    "        for col_to_woe in self.cols_to_woe:\n",
    "            total_good = self.compute_total_amount_of_good()\n",
    "            total_bad = self.compute_total_amount_of_bad()\n",
    "            \n",
    "            woe_df = self.df.select(col_to_woe)\n",
    "            categories = woe_df.distinct().collect()\n",
    "            for category_row in categories:\n",
    "                category = category_row[col_to_woe]\n",
    "                good_amount = self.compute_good_amount(col_to_woe, category)\n",
    "                bad_amount = self.compute_bad_amount(col_to_woe, category)\n",
    "\n",
    "                good_amount = good_amount if good_amount != 0 else 0.5\n",
    "                bad_amount = bad_amount if bad_amount != 0 else 0.5\n",
    "\n",
    "                good_dist = good_amount / total_good\n",
    "                bad_dist = bad_amount / total_bad\n",
    "\n",
    "                self.build_fit_data(col_to_woe, category, good_dist, bad_dist)\n",
    "\n",
    "    def transform(self, df: DataFrame):\n",
    "        def _encode_woe(col_to_woe_):\n",
    "            return F.coalesce(\n",
    "                *[F.when(F.col(col_to_woe_) == category, F.lit(woe_iv['woe']))\n",
    "                  for category, woe_iv in self.fit_data[col_to_woe_].items()]\n",
    "            )\n",
    "\n",
    "        for col_to_woe, woe_info in self.fit_data.items():\n",
    "            df = df.withColumn(col_to_woe + '_woe', _encode_woe(col_to_woe))\n",
    "        return df\n",
    "\n",
    "    def compute_total_amount_of_good(self):\n",
    "        return self.df.select(self.label_column).filter(F.col(self.label_column) == self.good_label).count()\n",
    "\n",
    "    def compute_total_amount_of_bad(self):\n",
    "        return self.df.select(self.label_column).filter(F.col(self.label_column) != self.good_label).count()\n",
    "\n",
    "    def compute_good_amount(self, col_to_woe: str, category: str):\n",
    "        return self.df.select(col_to_woe, self.label_column)\\\n",
    "                      .filter(\n",
    "                            (F.col(col_to_woe) == category) & (F.col(self.label_column) == self.good_label)\n",
    "                      ).count()\n",
    "\n",
    "    def compute_bad_amount(self, col_to_woe: str, category: str):\n",
    "        return self.df.select(col_to_woe, self.label_column)\\\n",
    "                      .filter(\n",
    "                            (F.col(col_to_woe) == category) & (F.col(self.label_column) != self.good_label)\n",
    "                      ).count()\n",
    "\n",
    "    def build_fit_data(self, col_to_woe, category, good_dist, bad_dist):\n",
    "        woe_info = {\n",
    "            category: {\n",
    "                'woe': math.log(good_dist / bad_dist),\n",
    "                'iv': (good_dist - bad_dist) * math.log(good_dist / bad_dist)\n",
    "            }\n",
    "        }\n",
    "\n",
    "        if col_to_woe not in self.fit_data:\n",
    "            self.fit_data[col_to_woe] = woe_info\n",
    "        else:\n",
    "            self.fit_data[col_to_woe].update(woe_info)\n",
    "\n",
    "    def compute_iv(self):\n",
    "        iv_dict = {}\n",
    "\n",
    "        for woe_col, categories in self.fit_data.items():\n",
    "            iv_dict[woe_col] = 0\n",
    "            for category, woe_iv in categories.items():\n",
    "                iv_dict[woe_col] += woe_iv['iv']\n",
    "        return iv_dict"
   ]
  },
  {
   "cell_type": "code",
   "execution_count": 21,
   "metadata": {},
   "outputs": [
    {
     "data": {
      "application/vnd.jupyter.widget-view+json": {
       "model_id": "3365951dac9347a88db9e04c91aaaf2a",
       "version_major": 2,
       "version_minor": 0
      },
      "text/plain": [
       "VBox()"
      ]
     },
     "metadata": {},
     "output_type": "display_data"
    },
    {
     "data": {
      "application/vnd.jupyter.widget-view+json": {
       "model_id": "",
       "version_major": 2,
       "version_minor": 0
      },
      "text/plain": [
       "FloatProgress(value=0.0, bar_style='info', description='Progress:', layout=Layout(height='25px', width='50%'),…"
      ]
     },
     "metadata": {},
     "output_type": "display_data"
    },
    {
     "name": "stdout",
     "output_type": "stream",
     "text": [
      "AMT_INCOME_TOTALbucket\n",
      "DAYS_EMPLOYEDbucket\n",
      "['ID', 'CODE_GENDER', 'FLAG_OWN_CAR', 'FLAG_OWN_REALTY', 'CNT_CHILDREN', 'AMT_INCOME_TOTAL', 'NAME_INCOME_TYPE', 'NAME_EDUCATION_TYPE', 'NAME_FAMILY_STATUS', 'NAME_HOUSING_TYPE', 'DAYS_BIRTH', 'DAYS_EMPLOYED', 'FLAG_MOBIL', 'FLAG_WORK_PHONE', 'FLAG_PHONE', 'FLAG_EMAIL', 'OCCUPATION_TYPE', 'CNT_FAM_MEMBERS', 'target', 'RENT_HOUSING_TYPE', 'MARRIED_STATUS', 'AMT_INCOME_TOTALbucket', 'DAYS_EMPLOYEDbucket']"
     ]
    }
   ],
   "source": [
    "# bins for continous variables\n",
    "\n",
    "spike_columns = ['CNT_CHILDREN','AMT_INCOME_TOTAL','DAYS_BIRTH','DAYS_EMPLOYED','CNT_FAM_MEMBERS']\n",
    "\n",
    "max_bucket_size = 5\n",
    "\n",
    "for x in spike_columns:\n",
    "    rt = 0\n",
    "    num = max_bucket_size\n",
    "    while ((np.abs(rt) < 1) & (num>1)):\n",
    "        discretizer = QuantileDiscretizer(numBuckets=num, inputCol=x, outputCol=x + \"bucket\")\n",
    "        d = discretizer.fit(merged_Credit_app_records).transform(merged_Credit_app_records)\n",
    "        d1 = d.groupby(x+ \"bucket\").agg(F.mean(x).alias(\"X1\"),F.mean(\"target\").alias(\"Y1\")).orderBy(\"X1\")\n",
    "        a1 = d1.select(\"X1\").rdd.flatMap(lambda x: x).collect()\n",
    "        b1 = d1.select(\"Y1\").rdd.flatMap(lambda x: x).collect()\n",
    "        rt, p = stats.spearmanr(a1, b1)\n",
    "        if(rt == 1):\n",
    "            print(x+\"bucket\")\n",
    "            merged_Credit_app_records = discretizer.fit(merged_Credit_app_records).transform(merged_Credit_app_records)\n",
    "        num = num-1\n",
    "        \n",
    "print(merged_Credit_app_records.columns)"
   ]
  },
  {
   "cell_type": "code",
   "execution_count": 22,
   "metadata": {},
   "outputs": [
    {
     "data": {
      "application/vnd.jupyter.widget-view+json": {
       "model_id": "405c4d0531c543c983343e43e2350dc1",
       "version_major": 2,
       "version_minor": 0
      },
      "text/plain": [
       "VBox()"
      ]
     },
     "metadata": {},
     "output_type": "display_data"
    },
    {
     "data": {
      "application/vnd.jupyter.widget-view+json": {
       "model_id": "",
       "version_major": 2,
       "version_minor": 0
      },
      "text/plain": [
       "FloatProgress(value=0.0, bar_style='info', description='Progress:', layout=Layout(height='25px', width='50%'),…"
      ]
     },
     "metadata": {},
     "output_type": "display_data"
    },
    {
     "name": "stderr",
     "output_type": "stream",
     "text": [
      "Exception in thread cell_monitor-22:\n",
      "Traceback (most recent call last):\n",
      "  File \"/mnt/notebook-env/lib/python3.7/threading.py\", line 926, in _bootstrap_inner\n",
      "    self.run()\n",
      "  File \"/mnt/notebook-env/lib/python3.7/threading.py\", line 870, in run\n",
      "    self._target(*self._args, **self._kwargs)\n",
      "  File \"/mnt/notebook-env/lib/python3.7/site-packages/awseditorssparkmonitoringwidget-1.0-py3.7.egg/awseditorssparkmonitoringwidget/cellmonitor.py\", line 178, in cell_monitor\n",
      "    job_binned_stages[job_id][stage_id] = all_stages[stage_id]\n",
      "KeyError: 1798\n",
      "\n"
     ]
    }
   ],
   "source": [
    "# Calculating WOE and IV for all the categorical variables (including bin variables from continous variables)\n",
    "\n",
    "\n",
    "columns_to_woe = ['CODE_GENDER', 'FLAG_OWN_CAR','FLAG_OWN_REALTY','FLAG_OWN_REALTY','NAME_INCOME_TYPE','NAME_EDUCATION_TYPE',\n",
    "               'NAME_FAMILY_STATUS','NAME_HOUSING_TYPE','FLAG_MOBIL','FLAG_WORK_PHONE','FLAG_PHONE','FLAG_EMAIL','OCCUPATION_TYPE',\n",
    "               'AMT_INCOME_TOTALbucket','DAYS_EMPLOYEDbucket']\n",
    "\n",
    "woe = WOE_IV(merged_Credit_app_records, columns_to_woe, 'target', 1)\n",
    "\n",
    "# woe encoding\n",
    "woe.fit()\n",
    "encoded_df = woe.transform(merged_Credit_app_records)\n",
    "\n",
    "# information value\n",
    "ivs = woe.compute_iv()"
   ]
  },
  {
   "cell_type": "code",
   "execution_count": 23,
   "metadata": {},
   "outputs": [
    {
     "data": {
      "application/vnd.jupyter.widget-view+json": {
       "model_id": "75ccdec45b494ab4810f29d689b40125",
       "version_major": 2,
       "version_minor": 0
      },
      "text/plain": [
       "VBox()"
      ]
     },
     "metadata": {},
     "output_type": "display_data"
    },
    {
     "data": {
      "application/vnd.jupyter.widget-view+json": {
       "model_id": "",
       "version_major": 2,
       "version_minor": 0
      },
      "text/plain": [
       "FloatProgress(value=0.0, bar_style='info', description='Progress:', layout=Layout(height='25px', width='50%'),…"
      ]
     },
     "metadata": {},
     "output_type": "display_data"
    },
    {
     "name": "stdout",
     "output_type": "stream",
     "text": [
      "{'CODE_GENDER': {'M': {'woe': 0.18847512261896812, 'iv': 0.014730334586125406}, 'F': {'woe': -0.13400455891611948, 'iv': 0.010473169941325407}}, 'FLAG_OWN_CAR': {'Y': {'woe': 0.002510221549541952, 'iv': 2.639611117445198e-06}, 'N': {'woe': -0.0018095944440989517, 'iv': 1.902870132551552e-06}}, 'FLAG_OWN_REALTY': {'Y': {'woe': -0.13077665160154833, 'iv': 0.010521107917778397}, 'N': {'woe': 0.21030941552994442, 'iv': 0.016919595583905052}}, 'NAME_INCOME_TYPE': {'Commercial associate': {'woe': 0.005114514731444934, 'iv': 7.357550450491796e-06}, 'Working': {'woe': -0.005027780864046354, 'iv': 1.567375175195009e-05}, 'Pensioner': {'woe': 7.328135458583888, 'iv': 0.2255999779354912}, 'Student': {'woe': 1.0743066470084148, 'iv': 0.0008381444170551353}, 'State servant': {'woe': -0.34921705587983176, 'iv': 0.010030267766525755}}, 'NAME_EDUCATION_TYPE': {'Higher education': {'woe': 0.0678324910762806, 'iv': 0.0013493563969528277}, 'Academic degree': {'woe': 0.7378344103872019, 'iv': 0.0004562087262492998}, 'Incomplete higher': {'woe': 0.23520555382538985, 'iv': 0.002453174089538019}, 'Secondary / secondary special': {'woe': -0.05630984727956575, 'iv': 0.002063727794482051}, 'Lower secondary': {'woe': 0.663301358524635, 'iv': 0.004572555907019098}}, 'NAME_FAMILY_STATUS': {'Separated': {'woe': -0.5026080737201255, 'iv': 0.011666466006593922}, 'Married': {'woe': -0.060466972646425615, 'iv': 0.002474002680430879}, 'Single / not married': {'woe': 0.36858821439044276, 'iv': 0.022349420085444743}, 'Civil marriage': {'woe': -0.11439387748286797, 'iv': 0.0010512842955782452}, 'Widow': {'woe': 0.44126339051817487, 'iv': 0.005595942355080156}}, 'NAME_HOUSING_TYPE': {'Municipal apartment': {'woe': 0.3386546780939982, 'iv': 0.004380167615353005}, 'Rented apartment': {'woe': -0.208939338212029, 'iv': 0.0006903026139570744}, 'House / apartment': {'woe': -0.019624371923985737, 'iv': 0.00033546623300853204}, 'Co-op apartment': {'woe': 0.16470490328505638, 'iv': 0.00017780641532474627}, 'Office apartment': {'woe': 0.41161867393317797, 'iv': 0.0016456120243232418}, 'With parents': {'woe': 0.041122163662760475, 'iv': 9.814778605613515e-05}}, 'FLAG_MOBIL': {1: {'woe': 0.0, 'iv': 0.0}}, 'FLAG_WORK_PHONE': {1: {'woe': 0.07183821889320734, 'iv': 0.0014632355974517378}, 0: {'woe': -0.028435803248823638, 'iv': 0.0005791941976967225}}, 'FLAG_PHONE': {1: {'woe': 0.035936566307071184, 'iv': 0.0003847605337132808}, 0: {'woe': -0.015251167910096394, 'iv': 0.0001632890425506477}}, 'FLAG_EMAIL': {1: {'woe': 0.012406592452563496, 'iv': 1.5587259476897747e-05}, 0: {'woe': -0.0013979347372731828, 'iv': 1.7563220171018334e-06}}, 'OCCUPATION_TYPE': {'Managers': {'woe': -0.07444578915936152, 'iv': 0.0006408135186235722}, 'HR staff': {'woe': -0.3607778782809076, 'iv': 0.0003714172385524679}, 'Accountants': {'woe': 0.10056768822171322, 'iv': 0.0005244176789119441}, 'Cleaning staff': {'woe': -0.6231421427483989, 'iv': 0.0063848313842721155}, 'Secretaries': {'woe': -0.2407602048231078, 'iv': 0.00031061024861284375}, 'Laborers': {'woe': -0.052850560149360626, 'iv': 0.0006728973676652198}, 'Sales staff': {'woe': -0.2665253400347184, 'iv': 0.008680345110209108}, 'Core staff': {'woe': 0.20874038129259317, 'iv': 0.006895932490214902}, 'Private service staff': {'woe': -1.071624635940254, 'iv': 0.009751884644826897}, 'Medicine staff': {'woe': -0.7149496920015217, 'iv': 0.017688801517853504}, 'IT staff': {'woe': 1.1255999413959652, 'iv': 0.0054056183408211144}, 'Drivers': {'woe': 0.3174184571164668, 'iv': 0.010024047691219536}, 'Realty agents': {'woe': -0.992556112464561, 'iv': 0.0019970162769638385}, 'Security staff': {'woe': 0.2736858004509473, 'iv': 0.002018644778280479}, 'Low-skill Laborers': {'woe': 1.0314866498254869, 'iv': 0.01258361677847266}, 'Cooking staff': {'woe': -0.20353600588397663, 'iv': 0.0009798491551008051}, 'High skill tech staff': {'woe': 0.2611566740537731, 'iv': 0.0042671222069442455}, 'Waiters/barmen staff': {'woe': -0.3843083756911018, 'iv': 0.0008534892560405748}}, 'AMT_INCOME_TOTALbucket': {1.0: {'woe': -0.009591171305692302, 'iv': 3.898838160547007e-05}, 2.0: {'woe': 0.056904413765848254, 'iv': 0.001118852077947872}, 0.0: {'woe': -0.06767757381322263, 'iv': 0.0010555622319709098}}, 'DAYS_EMPLOYEDbucket': {1.0: {'woe': -0.12090448143616793, 'iv': 0.003461136776233566}, 2.0: {'woe': -0.11444451065064175, 'iv': 0.003090961726656693}, 0.0: {'woe': -0.3965165520555521, 'iv': 0.032464774068510185}, 3.0: {'woe': 0.44006968446215866, 'iv': 0.060514147534267135}}}\n",
      "{'CODE_GENDER': 0.025203504527450814, 'FLAG_OWN_CAR': 4.5424812499967504e-06, 'FLAG_OWN_REALTY': 0.02744070350168345, 'NAME_INCOME_TYPE': 0.2364914214212745, 'NAME_EDUCATION_TYPE': 0.010895022914241295, 'NAME_FAMILY_STATUS': 0.04313711542312794, 'NAME_HOUSING_TYPE': 0.007327502688022734, 'FLAG_MOBIL': 0.0, 'FLAG_WORK_PHONE': 0.00204242979514846, 'FLAG_PHONE': 0.0005480495762639285, 'FLAG_EMAIL': 1.7343581493999582e-05, 'OCCUPATION_TYPE': 0.09005135568358584, 'AMT_INCOME_TOTALbucket': 0.0022134026915242517, 'DAYS_EMPLOYEDbucket': 0.09953102010566758}"
     ]
    }
   ],
   "source": [
    "# print WOE for each variable & category\n",
    "print(woe.fit_data)\n",
    "print(ivs)"
   ]
  },
  {
   "cell_type": "code",
   "execution_count": 24,
   "metadata": {},
   "outputs": [
    {
     "data": {
      "application/vnd.jupyter.widget-view+json": {
       "model_id": "27bff22b57124f18add7238c7c63f9b6",
       "version_major": 2,
       "version_minor": 0
      },
      "text/plain": [
       "VBox()"
      ]
     },
     "metadata": {},
     "output_type": "display_data"
    },
    {
     "data": {
      "application/vnd.jupyter.widget-view+json": {
       "model_id": "",
       "version_major": 2,
       "version_minor": 0
      },
      "text/plain": [
       "FloatProgress(value=0.0, bar_style='info', description='Progress:', layout=Layout(height='25px', width='50%'),…"
      ]
     },
     "metadata": {},
     "output_type": "display_data"
    },
    {
     "name": "stderr",
     "output_type": "stream",
     "text": [
      "Exception in thread cell_monitor-24:\n",
      "Traceback (most recent call last):\n",
      "  File \"/mnt/notebook-env/lib/python3.7/threading.py\", line 926, in _bootstrap_inner\n",
      "    self.run()\n",
      "  File \"/mnt/notebook-env/lib/python3.7/threading.py\", line 870, in run\n",
      "    self._target(*self._args, **self._kwargs)\n",
      "  File \"/mnt/notebook-env/lib/python3.7/site-packages/awseditorssparkmonitoringwidget-1.0-py3.7.egg/awseditorssparkmonitoringwidget/cellmonitor.py\", line 178, in cell_monitor\n",
      "    job_binned_stages[job_id][stage_id] = all_stages[stage_id]\n",
      "KeyError: 2197\n",
      "\n"
     ]
    },
    {
     "name": "stdout",
     "output_type": "stream",
     "text": [
      "(25134, 37)\n",
      "(25134, 37)"
     ]
    }
   ],
   "source": [
    "#writing the contents to a file for check point\n",
    "\n",
    "encoded_df.write.format(\"com.databricks.spark.csv\").mode('overwrite').save('encodedfile.csv',header = 'true')\n",
    "encoded_df_saved = spark.read.csv(\"encodedfile.csv\", header=True, inferSchema=True)\n",
    "print(encoded_df.shape())\n",
    "print(encoded_df_saved.shape())"
   ]
  },
  {
   "cell_type": "code",
   "execution_count": 26,
   "metadata": {},
   "outputs": [
    {
     "data": {
      "application/vnd.jupyter.widget-view+json": {
       "model_id": "9a3d5e7a990140ceb5f7c1edf5f687dc",
       "version_major": 2,
       "version_minor": 0
      },
      "text/plain": [
       "VBox()"
      ]
     },
     "metadata": {},
     "output_type": "display_data"
    },
    {
     "data": {
      "application/vnd.jupyter.widget-view+json": {
       "model_id": "",
       "version_major": 2,
       "version_minor": 0
      },
      "text/plain": [
       "FloatProgress(value=0.0, bar_style='info', description='Progress:', layout=Layout(height='25px', width='50%'),…"
      ]
     },
     "metadata": {},
     "output_type": "display_data"
    },
    {
     "name": "stdout",
     "output_type": "stream",
     "text": [
      "(25134, 37)\n",
      "['ID', 'CODE_GENDER', 'FLAG_OWN_CAR', 'FLAG_OWN_REALTY', 'CNT_CHILDREN', 'AMT_INCOME_TOTAL', 'NAME_INCOME_TYPE', 'NAME_EDUCATION_TYPE', 'NAME_FAMILY_STATUS', 'NAME_HOUSING_TYPE', 'DAYS_BIRTH', 'DAYS_EMPLOYED', 'FLAG_MOBIL', 'FLAG_WORK_PHONE', 'FLAG_PHONE', 'FLAG_EMAIL', 'OCCUPATION_TYPE', 'CNT_FAM_MEMBERS', 'target', 'RENT_HOUSING_TYPE', 'MARRIED_STATUS', 'AMT_INCOME_TOTALbucket', 'DAYS_EMPLOYEDbucket', 'CODE_GENDER_woe', 'FLAG_OWN_CAR_woe', 'FLAG_OWN_REALTY_woe', 'NAME_INCOME_TYPE_woe', 'NAME_EDUCATION_TYPE_woe', 'NAME_FAMILY_STATUS_woe', 'NAME_HOUSING_TYPE_woe', 'FLAG_MOBIL_woe', 'FLAG_WORK_PHONE_woe', 'FLAG_PHONE_woe', 'FLAG_EMAIL_woe', 'OCCUPATION_TYPE_woe', 'AMT_INCOME_TOTALbucket_woe', 'DAYS_EMPLOYEDbucket_woe']"
     ]
    }
   ],
   "source": [
    "#loading the data from the saved file \n",
    "\n",
    "encoded_df_saved = spark.read.csv(\"encodedfile.csv\", header=True, inferSchema=True)\n",
    "print(encoded_df_saved.shape())\n",
    "encoded_df_saved.columns"
   ]
  },
  {
   "cell_type": "code",
   "execution_count": 27,
   "metadata": {},
   "outputs": [
    {
     "data": {
      "application/vnd.jupyter.widget-view+json": {
       "model_id": "25f0eff359aa42b286253e5e840a8b31",
       "version_major": 2,
       "version_minor": 0
      },
      "text/plain": [
       "VBox()"
      ]
     },
     "metadata": {},
     "output_type": "display_data"
    },
    {
     "data": {
      "application/vnd.jupyter.widget-view+json": {
       "model_id": "",
       "version_major": 2,
       "version_minor": 0
      },
      "text/plain": [
       "FloatProgress(value=0.0, bar_style='info', description='Progress:', layout=Layout(height='25px', width='50%'),…"
      ]
     },
     "metadata": {},
     "output_type": "display_data"
    },
    {
     "name": "stdout",
     "output_type": "stream",
     "text": [
      "Training Dataset Count: 17541\n",
      "Test Dataset Count: 7593\n",
      "+------+----------+-----------------------------------------+\n",
      "|target|prediction|probability                              |\n",
      "+------+----------+-----------------------------------------+\n",
      "|0     |0.0       |[0.9846176278381278,0.015382372161872151]|\n",
      "|0     |0.0       |[0.9846176278381278,0.015382372161872151]|\n",
      "|0     |0.0       |[0.986773310087667,0.01322668991233313]  |\n",
      "|0     |0.0       |[0.9863673224127191,0.013632677587280992]|\n",
      "|0     |0.0       |[0.9863673224127191,0.013632677587280992]|\n",
      "|0     |0.0       |[0.9872500834417228,0.012749916558277178]|\n",
      "|0     |0.0       |[0.9872500834417228,0.012749916558277178]|\n",
      "|0     |0.0       |[0.990614606918368,0.00938539308163209]  |\n",
      "|0     |0.0       |[0.990614606918368,0.00938539308163209]  |\n",
      "|0     |0.0       |[0.990614606918368,0.00938539308163209]  |\n",
      "|0     |0.0       |[0.990614606918368,0.00938539308163209]  |\n",
      "|0     |0.0       |[0.990614606918368,0.00938539308163209]  |\n",
      "|0     |0.0       |[0.990614606918368,0.00938539308163209]  |\n",
      "|0     |0.0       |[0.9849549125665301,0.015045087433469898]|\n",
      "|0     |0.0       |[0.9903662030769003,0.009633796923099743]|\n",
      "|0     |0.0       |[0.9903662030769003,0.009633796923099743]|\n",
      "|0     |0.0       |[0.9903662030769003,0.009633796923099743]|\n",
      "|0     |0.0       |[0.9903662030769003,0.009633796923099743]|\n",
      "|0     |0.0       |[0.9903662030769003,0.009633796923099743]|\n",
      "|0     |0.0       |[0.9855085313022302,0.014491468697769775]|\n",
      "+------+----------+-----------------------------------------+\n",
      "only showing top 20 rows\n",
      "\n",
      "+------+----------+-----------------------------------------+------------+\n",
      "|target|prediction|probability                              |prob_int    |\n",
      "+------+----------+-----------------------------------------+------------+\n",
      "|0     |0.0       |[0.9846176278381278,0.015382372161872151]|0.015382372 |\n",
      "|0     |0.0       |[0.9846176278381278,0.015382372161872151]|0.015382372 |\n",
      "|0     |0.0       |[0.986773310087667,0.01322668991233313]  |0.01322669  |\n",
      "|0     |0.0       |[0.9863673224127191,0.013632677587280992]|0.0136326775|\n",
      "|0     |0.0       |[0.9863673224127191,0.013632677587280992]|0.0136326775|\n",
      "|0     |0.0       |[0.9872500834417228,0.012749916558277178]|0.012749917 |\n",
      "|0     |0.0       |[0.9872500834417228,0.012749916558277178]|0.012749917 |\n",
      "|0     |0.0       |[0.990614606918368,0.00938539308163209]  |0.009385393 |\n",
      "|0     |0.0       |[0.990614606918368,0.00938539308163209]  |0.009385393 |\n",
      "|0     |0.0       |[0.990614606918368,0.00938539308163209]  |0.009385393 |\n",
      "|0     |0.0       |[0.990614606918368,0.00938539308163209]  |0.009385393 |\n",
      "|0     |0.0       |[0.990614606918368,0.00938539308163209]  |0.009385393 |\n",
      "|0     |0.0       |[0.990614606918368,0.00938539308163209]  |0.009385393 |\n",
      "|0     |0.0       |[0.9849549125665301,0.015045087433469898]|0.015045088 |\n",
      "|0     |0.0       |[0.9903662030769003,0.009633796923099743]|0.009633797 |\n",
      "|0     |0.0       |[0.9903662030769003,0.009633796923099743]|0.009633797 |\n",
      "|0     |0.0       |[0.9903662030769003,0.009633796923099743]|0.009633797 |\n",
      "|0     |0.0       |[0.9903662030769003,0.009633796923099743]|0.009633797 |\n",
      "|0     |0.0       |[0.9903662030769003,0.009633796923099743]|0.009633797 |\n",
      "|0     |0.0       |[0.9855085313022302,0.014491468697769775]|0.014491469 |\n",
      "+------+----------+-----------------------------------------+------------+\n",
      "only showing top 20 rows"
     ]
    }
   ],
   "source": [
    "#splitting in test and train data\n",
    "train, test = encoded_df_saved.randomSplit([0.7, 0.3], seed = 2018)\n",
    "print(\"Training Dataset Count: \" + str(train.count()))\n",
    "print(\"Test Dataset Count: \" + str(test.count()))\n",
    "\n",
    "#Specifying feature list to be used for logistic regression\n",
    "features_list = [ 'CODE_GENDER_woe','FLAG_OWN_CAR_woe','FLAG_OWN_REALTY_woe','NAME_EDUCATION_TYPE_woe','NAME_FAMILY_STATUS_woe',\n",
    "'NAME_HOUSING_TYPE_woe','FLAG_MOBIL_woe','FLAG_WORK_PHONE_woe','FLAG_PHONE_woe','FLAG_EMAIL_woe','OCCUPATION_TYPE_woe',\n",
    "'AMT_INCOME_TOTALbucket_woe','DAYS_EMPLOYEDbucket_woe']\n",
    "\n",
    "#Creating feature vector column with all the input variables\n",
    "assembler = VectorAssembler(inputCols=features_list, outputCol=\"features\")\n",
    "train = assembler.transform(train)\n",
    "test = assembler.transform(test)\n",
    "\n",
    "#Building logistic regression model and predict on test & train dataset using the same model \n",
    "lr = LogisticRegression(labelCol=\"target\", featuresCol= \"features\",maxIter=10)\n",
    "model=lr.fit(train)\n",
    "predict_train=model.transform(train)\n",
    "predict_test=model.transform(test)\n",
    "predict_test.select(\"target\",\"prediction\",\"probability\").show(truncate=False)\n",
    "\n",
    "#Creating a probability column for target probability \n",
    "secondelement=udf(lambda v:float(v[1]),FloatType())\n",
    "predict_train = predict_train.withColumn('prob_int', secondelement('probability'))\n",
    "predict_test = predict_test.withColumn('prob_int', secondelement('probability'))\n",
    "predict_test.select(\"target\",\"prediction\",\"probability\",\"prob_int\").show(truncate=False)"
   ]
  },
  {
   "cell_type": "code",
   "execution_count": 28,
   "metadata": {},
   "outputs": [
    {
     "data": {
      "application/vnd.jupyter.widget-view+json": {
       "model_id": "8807628f5088437493dfd74d0f960f28",
       "version_major": 2,
       "version_minor": 0
      },
      "text/plain": [
       "VBox()"
      ]
     },
     "metadata": {},
     "output_type": "display_data"
    },
    {
     "data": {
      "application/vnd.jupyter.widget-view+json": {
       "model_id": "",
       "version_major": 2,
       "version_minor": 0
      },
      "text/plain": [
       "FloatProgress(value=0.0, bar_style='info', description='Progress:', layout=Layout(height='25px', width='50%'),…"
      ]
     },
     "metadata": {},
     "output_type": "display_data"
    },
    {
     "name": "stdout",
     "output_type": "stream",
     "text": [
      "Training set areaUnderROC: 0.6454687677330996\n",
      "Testing set areaUnderROC=0.621"
     ]
    }
   ],
   "source": [
    "# AUC ROC for training set\n",
    "trainingSummary = model.summary\n",
    "roc = trainingSummary.roc.toPandas()\n",
    "plt.plot(roc['FPR'],roc['TPR'])\n",
    "plt.ylabel('False Positive Rate')\n",
    "plt.xlabel('True Positive Rate')\n",
    "plt.title('ROC Curve')\n",
    "plt.show()\n",
    "print('Training set areaUnderROC: ' + str(trainingSummary.areaUnderROC))\n",
    "\n",
    "\n",
    "# AUC ROC for test set\n",
    "preds = predict_test.select('target','prob_int').rdd.map(lambda row: (float(row['prob_int']), float(row['target']))).collect()\n",
    "lr_probs, y_test = zip(*preds)\n",
    "fpr, tpr, thresholds = roc_curve(y_test, lr_probs, pos_label = 1)\n",
    "\n",
    "ns_probs = [0 for _ in range(len(y_test))]\n",
    "# calculate scores\n",
    "ns_auc = roc_auc_score(y_test, ns_probs)\n",
    "lr_auc = roc_auc_score(y_test, lr_probs)\n",
    "\n",
    "# summarize scores\n",
    "print('Testing set areaUnderROC=%.3f' % (lr_auc))\n",
    "# calculate roc curves\n",
    "ns_fpr, ns_tpr, _ = roc_curve(y_test, ns_probs)\n",
    "lr_fpr, lr_tpr, _ = roc_curve(y_test, lr_probs)\n",
    "# plot the roc curve for the model\n",
    "pyplot.plot(ns_fpr, ns_tpr, linestyle='--', label='No Skill')\n",
    "pyplot.plot(lr_fpr, lr_tpr, marker='.', label='Logistic')\n",
    "# axis labels\n",
    "pyplot.xlabel('False Positive Rate')\n",
    "pyplot.ylabel('True Positive Rate')\n",
    "# show the legend\n",
    "pyplot.legend()\n",
    "# show the plot\n",
    "pyplot.show()"
   ]
  },
  {
   "cell_type": "code",
   "execution_count": 29,
   "metadata": {},
   "outputs": [
    {
     "data": {
      "application/vnd.jupyter.widget-view+json": {
       "model_id": "e334470145a141ebb7e882dda7972283",
       "version_major": 2,
       "version_minor": 0
      },
      "text/plain": [
       "VBox()"
      ]
     },
     "metadata": {},
     "output_type": "display_data"
    },
    {
     "data": {
      "application/vnd.jupyter.widget-view+json": {
       "model_id": "",
       "version_major": 2,
       "version_minor": 0
      },
      "text/plain": [
       "FloatProgress(value=0.0, bar_style='info', description='Progress:', layout=Layout(height='25px', width='50%'),…"
      ]
     },
     "metadata": {},
     "output_type": "display_data"
    },
    {
     "name": "stdout",
     "output_type": "stream",
     "text": [
      "+-----------+-----+-----------+------------+----+-----+-------------------+-------------------+-------------------+--------+\n",
      "|PROB_BUCKET|Total|   max_prob|    min_prob|bads|goods|           %cumuBad|          %cumuGood|              %diff|max_diff|\n",
      "+-----------+-----+-----------+------------+----+-----+-------------------+-------------------+-------------------+--------+\n",
      "|        9.0| 1765| 0.12203759| 0.028323418|  64| 1701| 0.2229965156794425|0.09858583516865654|0.12441068051078596|        |\n",
      "|        8.0| 1748|0.028291991| 0.021746911|  49| 1699|0.39372822299651566|0.19705575518720297| 0.1966724678093127|        |\n",
      "|        7.0| 1762|0.021745775| 0.018268326|  27| 1735| 0.4878048780487805|0.29761214790773155|0.19019273014104893|        |\n",
      "|        6.0| 1738|0.018267384| 0.015872356|  34| 1704| 0.6062717770034843|0.39637185580155326|0.20989992120193107|   <----|\n",
      "|        5.0| 1763|0.015871823| 0.014023574|  25| 1738| 0.6933797909407665|  0.497102121247247| 0.1962776696935195|        |\n",
      "|        4.0| 1748|0.014022303| 0.012338519|  19| 1729|  0.759581881533101| 0.5973107685174452|0.16227111301565578|        |\n",
      "|        3.0| 1752|0.012337526| 0.010942443|  22| 1730| 0.8362369337979094| 0.6975773733626985|0.13865956043521088|        |\n",
      "|        2.0| 1749|0.010939022|0.0095387865|  22| 1727| 0.9128919860627178| 0.7976701054827866|0.11522188057993121|        |\n",
      "|        1.0| 1768| 0.00953231|0.0075515183|  16| 1752| 0.9686411149825784| 0.8992117769792511|0.06942933800332729|        |\n",
      "|        0.0| 1748|0.007547002|0.0020103783|   9| 1739|                1.0|                1.0|                0.0|        |\n",
      "+-----------+-----+-----------+------------+----+-----+-------------------+-------------------+-------------------+--------+\n",
      "\n",
      "+-----------+-----+-----------+------------+----+-----+-------------------+-------------------+--------------------+--------+\n",
      "|PROB_BUCKET|Total|   max_prob|    min_prob|bads|goods|           %cumuBad|          %cumuGood|               %diff|max_diff|\n",
      "+-----------+-----+-----------+------------+----+-----+-------------------+-------------------+--------------------+--------+\n",
      "|        9.0|  764| 0.12203759| 0.028026735|  32|  732|0.23703703703703705|0.09814963797264682| 0.13888739906439024|        |\n",
      "|        8.0|  760|0.028010188| 0.021881435|  16|  744|0.35555555555555557|0.19790828640386163| 0.15764726915169394|        |\n",
      "|        7.0|  752| 0.02187429| 0.018427372|  15|  737| 0.4666666666666667|0.29672834540091175| 0.16993832126575492|        |\n",
      "|        6.0|  766|0.018425252|   0.0160226|  21|  745| 0.6222222222222222|0.39662107803700725| 0.22560114418521499|   <----|\n",
      "|        5.0|  761| 0.01601351| 0.013969402|  12|  749| 0.7111111111111111| 0.4970501474926254| 0.21406096361848576|        |\n",
      "|        4.0|  758|0.013969201| 0.012325135|   2|  756|  0.725925925925926| 0.5984178063824082| 0.12750811954351782|        |\n",
      "|        3.0|  760|0.012320538| 0.010847587|  11|  749| 0.8074074074074075| 0.6988468758380263| 0.10856053156938117|        |\n",
      "|        2.0|  750|0.010843293|  0.00939306|   6|  744| 0.8518518518518519|  0.798605524269241| 0.05324632758261083|        |\n",
      "|        1.0|  764|0.009385393|  0.00736083|  11|  753| 0.9333333333333333| 0.8995709305443819|0.033762402788951484|        |\n",
      "|        0.0|  758|0.007354714|0.0020103783|   9|  749|                1.0|                1.0|                 0.0|        |\n",
      "+-----------+-----+-----------+------------+----+-----+-------------------+-------------------+--------------------+--------+"
     ]
    }
   ],
   "source": [
    "#calculating KS\n",
    "\n",
    "#Creating deciles using the predcited probability column \n",
    "discretizer = QuantileDiscretizer(numBuckets=10, inputCol=\"prob_int\", outputCol=\"PROB_BUCKET\")\n",
    "predict_train = discretizer.fit(predict_train).transform(predict_train)\n",
    "predict_test = discretizer.fit(predict_test).transform(predict_test)\n",
    "\n",
    "#Creating #Good & # bad for each decile \n",
    "ks_train = predict_train.groupby('PROB_BUCKET').agg(F.count(\"ID\").alias(\"Total\"), \n",
    "                                                    F.max(\"prob_int\").alias(\"max_prob\"), \n",
    "                                                    F.min(\"prob_int\").alias(\"min_prob\"),  \n",
    "                                                    F.sum(\"target\").alias(\"bads\") ,\n",
    "                                                    F.count(F.when(col(\"target\") == 0,1)).alias(\"goods\")).sort(col('PROB_BUCKET').desc())\n",
    "\n",
    "ks_test = predict_test.groupby('PROB_BUCKET').agg(F.count(\"ID\").alias(\"Total\"), \n",
    "                                                  F.max(\"prob_int\").alias(\"max_prob\"), \n",
    "                                                  F.min(\"prob_int\").alias(\"min_prob\"),  \n",
    "                                                  F.sum(\"target\").alias(\"bads\") ,\n",
    "                                                  F.count(F.when(col(\"target\") == 0,1)).alias(\"goods\")).sort(col('PROB_BUCKET').desc())\n",
    "\n",
    "#Creating %cumulative good,%cumulative bad & KS \n",
    "ks_train = ks_train.withColumn('%cumuBad', F.sum('bads').over(Window.orderBy(F.col('PROB_BUCKET').desc()).rowsBetween(Window.unboundedPreceding, 0)\n",
    ")/ F.sum('bads').over(Window.partitionBy()))\n",
    "ks_train = ks_train.withColumn('%cumuGood', F.sum('goods').over(Window.orderBy(F.col('PROB_BUCKET').desc()).rowsBetween(Window.unboundedPreceding, 0)\n",
    ")/ F.sum('goods').over(Window.partitionBy()))\n",
    "ks_train = ks_train.withColumn('%diff', F.col('%cumuBad') -  F.col('%cumuGood'))\n",
    "ks_train = ks_train.withColumn('max_diff', F.when(F.col('%diff') ==F.max('%diff').over(Window.partitionBy()) ,'<----').otherwise(' '))\n",
    "\n",
    "ks_test = ks_test.withColumn('%cumuBad', F.sum('bads').over(Window.orderBy(F.col('PROB_BUCKET').desc()).rowsBetween(Window.unboundedPreceding, 0)\n",
    ")/ F.sum('bads').over(Window.partitionBy()))\n",
    "ks_test = ks_test.withColumn('%cumuGood', F.sum('goods').over(Window.orderBy(F.col('PROB_BUCKET').desc()).rowsBetween(Window.unboundedPreceding, 0)\n",
    ")/ F.sum('goods').over(Window.partitionBy()))\n",
    "ks_test = ks_test.withColumn('%diff', F.col('%cumuBad') -  F.col('%cumuGood'))\n",
    "ks_test = ks_test.withColumn('max_diff', F.when(F.col('%diff') ==F.max('%diff').over(Window.partitionBy()) ,'<----').otherwise(' '))\n",
    "\n",
    "ks_train.sort(col('PROB_BUCKET').desc()).show()\n",
    "ks_test.sort(col('PROB_BUCKET').desc()).show()"
   ]
  },
  {
   "cell_type": "code",
   "execution_count": null,
   "metadata": {},
   "outputs": [],
   "source": [
    "{\n",
    " 'DAYS_EMPLOYEDbucket': 0.09953102010566758   \n",
    " 'OCCUPATION_TYPE': 0.09005135568358584,\n",
    " 'NAME_FAMILY_STATUS': 0.04313711542312794\n",
    " 'FLAG_OWN_REALTY': 0.02744070350168345, \n",
    " 'CODE_GENDER': 0.025203504527450814, \n",
    " 'NAME_EDUCATION_TYPE': 0.010895022914241295,\n",
    " 'NAME_INCOME_TYPE': 0.23649142142127452, \n",
    " 'NAME_HOUSING_TYPE': 0.007327502688022734,\n",
    " 'AMT_INCOME_TOTALbucket': 0.0022134026915242517,\n",
    "\n",
    " 'FLAG_OWN_CAR': 4.5424812499967504e-06,   \n",
    " 'FLAG_MOBIL': 0.0, \n",
    " 'FLAG_WORK_PHONE': 0.00204242979514846, \n",
    " 'FLAG_PHONE': 0.0005480495762639285, \n",
    " 'FLAG_EMAIL': 1.7343581493999582e-05}"
   ]
  },
  {
   "cell_type": "code",
   "execution_count": 30,
   "metadata": {},
   "outputs": [
    {
     "data": {
      "application/vnd.jupyter.widget-view+json": {
       "model_id": "8ed04b6b6b5840f1a4aa00aba7f36274",
       "version_major": 2,
       "version_minor": 0
      },
      "text/plain": [
       "VBox()"
      ]
     },
     "metadata": {},
     "output_type": "display_data"
    },
    {
     "data": {
      "application/vnd.jupyter.widget-view+json": {
       "model_id": "",
       "version_major": 2,
       "version_minor": 0
      },
      "text/plain": [
       "FloatProgress(value=0.0, bar_style='info', description='Progress:', layout=Layout(height='25px', width='50%'),…"
      ]
     },
     "metadata": {},
     "output_type": "display_data"
    },
    {
     "name": "stderr",
     "output_type": "stream",
     "text": [
      "Exception in thread cell_monitor-30:\n",
      "Traceback (most recent call last):\n",
      "  File \"/mnt/notebook-env/lib/python3.7/threading.py\", line 926, in _bootstrap_inner\n",
      "    self.run()\n",
      "  File \"/mnt/notebook-env/lib/python3.7/threading.py\", line 870, in run\n",
      "    self._target(*self._args, **self._kwargs)\n",
      "  File \"/mnt/notebook-env/lib/python3.7/site-packages/awseditorssparkmonitoringwidget-1.0-py3.7.egg/awseditorssparkmonitoringwidget/cellmonitor.py\", line 178, in cell_monitor\n",
      "    job_binned_stages[job_id][stage_id] = all_stages[stage_id]\n",
      "KeyError: 2290\n",
      "\n"
     ]
    },
    {
     "name": "stdout",
     "output_type": "stream",
     "text": [
      "Training Dataset Count: 17541\n",
      "Test Dataset Count: 7593\n",
      "Training set areaUnderROC: 0.6521478229155769\n",
      "Testing set areaUnderROC=0.649\n",
      "+-----------+-----+------------+------------+----+-----+-------------------+-------------------+-------------------+--------+\n",
      "|PROB_BUCKET|Total|    max_prob|    min_prob|bads|goods|           %cumuBad|          %cumuGood|              %diff|max_diff|\n",
      "+-----------+-----+------------+------------+----+-----+-------------------+-------------------+-------------------+--------+\n",
      "|        9.0| 1766|   0.9828491| 0.027494008|  63| 1703|0.21951219512195122|0.09870175031876666|0.12081044480318456|        |\n",
      "|        8.0| 1739| 0.027488615| 0.021537388|  46| 1693| 0.3797909407665505|0.19682392488698272| 0.1829670158795678|        |\n",
      "|        7.0| 1770| 0.021510385|  0.01797418|  37| 1733| 0.5087108013937283|0.29726440245740116| 0.2114463989363271|        |\n",
      "|        6.0| 1735| 0.017968645| 0.015870653|  37| 1698| 0.6376306620209059|0.39567636490089253|0.24195429712001337|   <----|\n",
      "|        5.0| 1758| 0.015847946|  0.01369995|  27| 1731| 0.7317073170731707| 0.4960009273212009|0.23570638975196984|        |\n",
      "|        4.0| 1755| 0.013699586| 0.012265156|  13| 1742| 0.7770034843205574| 0.5969630230671149|0.18004046125344253|        |\n",
      "|        3.0| 1760| 0.012264656| 0.010990919|  18| 1742| 0.8397212543554007| 0.6979251188130289| 0.1417961355423718|        |\n",
      "|        2.0| 1855| 0.010988842|  0.00923702|  16| 1839| 0.8954703832752613| 0.8045090993392836|0.09096128393597769|        |\n",
      "|        1.0| 1640| 0.009227373|0.0076757837|  17| 1623| 0.9547038327526133| 0.8985742436536456| 0.0561295890989677|        |\n",
      "|        0.0| 1763|0.0076742047|0.0017910189|  13| 1750|                1.0|                1.0|                0.0|        |\n",
      "+-----------+-----+------------+------------+----+-----+-------------------+-------------------+-------------------+--------+\n",
      "\n",
      "+-----------+-----+-----------+------------+----+-----+------------------+-------------------+-------------------+--------+\n",
      "|PROB_BUCKET|Total|   max_prob|    min_prob|bads|goods|          %cumuBad|          %cumuGood|              %diff|max_diff|\n",
      "+-----------+-----+-----------+------------+----+-----+------------------+-------------------+-------------------+--------+\n",
      "|        9.0|  766| 0.99120146|  0.02712887|  34|  732|0.2518518518518518|0.09814963797264682|0.15370221387920502|        |\n",
      "|        8.0|  755|0.027115295| 0.021611314|  18|  737|0.3851851851851852|0.19696969696969696|0.18821548821548822|        |\n",
      "|        7.0|  761|0.021602597| 0.018170366|  18|  743|0.5185185185185185| 0.2965942611960311|0.22192425732248738|        |\n",
      "|        6.0|  760|0.018163167| 0.015905177|  20|  740|0.6666666666666666|0.39581657280772325| 0.2708500938589434|   <----|\n",
      "|        5.0|  758|0.015900783| 0.013623883|   7|  751|0.7185185185185186| 0.4965138106731027|0.22200470784541587|        |\n",
      "|        4.0|  756|0.013618922| 0.012186022|   6|  750| 0.762962962962963| 0.5970769643336015| 0.1658859986293615|        |\n",
      "|        3.0|  759|0.012183561|0.0109289065|   7|  752|0.8148148148148148| 0.6979082864038616|0.11690652841095317|        |\n",
      "|        2.0|  754|0.010906844| 0.009193793|   8|  746|0.8740740740740741| 0.7979351032448377|0.07613897082923637|        |\n",
      "|        1.0|  768|0.009193477|   0.0073632|   9|  759|0.9407407407407408| 0.8997050147492626| 0.0410357259914782|        |\n",
      "|        0.0|  756|0.007326404|0.0017910189|   8|  748|               1.0|                1.0|                0.0|        |\n",
      "+-----------+-----+-----------+------------+----+-----+------------------+-------------------+-------------------+--------+"
     ]
    }
   ],
   "source": [
    "#splitting in test and train data\n",
    "train, test = encoded_df_saved.randomSplit([0.7, 0.3], seed = 2018)\n",
    "print(\"Training Dataset Count: \" + str(train.count()))\n",
    "print(\"Test Dataset Count: \" + str(test.count()))\n",
    "\n",
    "#Specifying feature list to be used for logistic regression\n",
    "features_list = ['AMT_INCOME_TOTALbucket_woe','CODE_GENDER_woe','DAYS_EMPLOYEDbucket_woe','FLAG_OWN_REALTY_woe',\n",
    "                 'NAME_EDUCATION_TYPE_woe','NAME_FAMILY_STATUS_woe','NAME_HOUSING_TYPE_woe','OCCUPATION_TYPE_woe',\n",
    "                 'NAME_INCOME_TYPE_woe']\n",
    "\n",
    "#Creating feature vector column with all the input variables\n",
    "assembler = VectorAssembler(inputCols=features_list, outputCol=\"features\")\n",
    "train = assembler.transform(train)\n",
    "test = assembler.transform(test)\n",
    "\n",
    "#Building logistic regression model and predict on test & train dataset using the same model \n",
    "lr = LogisticRegression(labelCol=\"target\", featuresCol= \"features\",maxIter=10)\n",
    "model=lr.fit(train)\n",
    "predict_train=model.transform(train)\n",
    "predict_test=model.transform(test)\n",
    "#predict_test.select(\"target\",\"prediction\",\"probability\").show(truncate=False)\n",
    "\n",
    "#Creating a probability column for target probability \n",
    "secondelement=udf(lambda v:float(v[1]),FloatType())\n",
    "predict_train = predict_train.withColumn('prob_int', secondelement('probability'))\n",
    "predict_test = predict_test.withColumn('prob_int', secondelement('probability'))\n",
    "\n",
    "# AUC ROC for training set\n",
    "trainingSummary = model.summary\n",
    "roc = trainingSummary.roc.toPandas()\n",
    "plt.plot(roc['FPR'],roc['TPR'])\n",
    "plt.ylabel('False Positive Rate')\n",
    "plt.xlabel('True Positive Rate')\n",
    "plt.title('ROC Curve')\n",
    "plt.show()\n",
    "print('Training set areaUnderROC: ' + str(trainingSummary.areaUnderROC))\n",
    "\n",
    "\n",
    "# AUC ROC for test set\n",
    "preds = predict_test.select('target','prob_int').rdd.map(lambda row: (float(row['prob_int']), float(row['target']))).collect()\n",
    "lr_probs, y_test = zip(*preds)\n",
    "fpr, tpr, thresholds = roc_curve(y_test, lr_probs, pos_label = 1)\n",
    "\n",
    "ns_probs = [0 for _ in range(len(y_test))]\n",
    "# calculate scores\n",
    "ns_auc = roc_auc_score(y_test, ns_probs)\n",
    "lr_auc = roc_auc_score(y_test, lr_probs)\n",
    "\n",
    "# summarize scores\n",
    "print('Testing set areaUnderROC=%.3f' % (lr_auc))\n",
    "# calculate roc curves\n",
    "ns_fpr, ns_tpr, _ = roc_curve(y_test, ns_probs)\n",
    "lr_fpr, lr_tpr, _ = roc_curve(y_test, lr_probs)\n",
    "# plot the roc curve for the model\n",
    "pyplot.plot(ns_fpr, ns_tpr, linestyle='--', label='No Skill')\n",
    "pyplot.plot(lr_fpr, lr_tpr, marker='.', label='Logistic')\n",
    "# axis labels\n",
    "pyplot.xlabel('False Positive Rate')\n",
    "pyplot.ylabel('True Positive Rate')\n",
    "# show the legend\n",
    "pyplot.legend()\n",
    "# show the plot\n",
    "pyplot.show()\n",
    "\n",
    "\n",
    "#calculating KS\n",
    "\n",
    "#Creating deciles using the predcited probability column \n",
    "discretizer = QuantileDiscretizer(numBuckets=10, inputCol=\"prob_int\", outputCol=\"PROB_BUCKET\")\n",
    "predict_train = discretizer.fit(predict_train).transform(predict_train)\n",
    "predict_test = discretizer.fit(predict_test).transform(predict_test)\n",
    "\n",
    "#Creating #Good & # bad for each decile \n",
    "ks_train = predict_train.groupby('PROB_BUCKET').agg(F.count(\"ID\").alias(\"Total\"), \n",
    "                                                    F.max(\"prob_int\").alias(\"max_prob\"), \n",
    "                                                    F.min(\"prob_int\").alias(\"min_prob\"),  \n",
    "                                                    F.sum(\"target\").alias(\"bads\") ,\n",
    "                                                    F.count(F.when(col(\"target\") == 0,1)).alias(\"goods\")).sort(col('PROB_BUCKET').desc())\n",
    "\n",
    "ks_test = predict_test.groupby('PROB_BUCKET').agg(F.count(\"ID\").alias(\"Total\"), \n",
    "                                                  F.max(\"prob_int\").alias(\"max_prob\"), \n",
    "                                                  F.min(\"prob_int\").alias(\"min_prob\"),  \n",
    "                                                  F.sum(\"target\").alias(\"bads\") ,\n",
    "                                                  F.count(F.when(col(\"target\") == 0,1)).alias(\"goods\")).sort(col('PROB_BUCKET').desc())\n",
    "\n",
    "#Creating %cumulative good,%cumulative bad & KS \n",
    "ks_train = ks_train.withColumn('%cumuBad', F.sum('bads').over(Window.orderBy(F.col('PROB_BUCKET').desc()).rowsBetween(Window.unboundedPreceding, 0)\n",
    ")/ F.sum('bads').over(Window.partitionBy()))\n",
    "ks_train = ks_train.withColumn('%cumuGood', F.sum('goods').over(Window.orderBy(F.col('PROB_BUCKET').desc()).rowsBetween(Window.unboundedPreceding, 0)\n",
    ")/ F.sum('goods').over(Window.partitionBy()))\n",
    "ks_train = ks_train.withColumn('%diff', F.col('%cumuBad') -  F.col('%cumuGood'))\n",
    "ks_train = ks_train.withColumn('max_diff', F.when(F.col('%diff') ==F.max('%diff').over(Window.partitionBy()) ,'<----').otherwise(' '))\n",
    "\n",
    "ks_test = ks_test.withColumn('%cumuBad', F.sum('bads').over(Window.orderBy(F.col('PROB_BUCKET').desc()).rowsBetween(Window.unboundedPreceding, 0)\n",
    ")/ F.sum('bads').over(Window.partitionBy()))\n",
    "ks_test = ks_test.withColumn('%cumuGood', F.sum('goods').over(Window.orderBy(F.col('PROB_BUCKET').desc()).rowsBetween(Window.unboundedPreceding, 0)\n",
    ")/ F.sum('goods').over(Window.partitionBy()))\n",
    "ks_test = ks_test.withColumn('%diff', F.col('%cumuBad') -  F.col('%cumuGood'))\n",
    "ks_test = ks_test.withColumn('max_diff', F.when(F.col('%diff') ==F.max('%diff').over(Window.partitionBy()) ,'<----').otherwise(' '))\n",
    "\n",
    "ks_train.sort(col('PROB_BUCKET').desc()).show()\n",
    "ks_test.sort(col('PROB_BUCKET').desc()).show()"
   ]
  },
  {
   "cell_type": "code",
   "execution_count": 32,
   "metadata": {},
   "outputs": [
    {
     "data": {
      "application/vnd.jupyter.widget-view+json": {
       "model_id": "d9dec73809d74d0d838498e02c8c40bc",
       "version_major": 2,
       "version_minor": 0
      },
      "text/plain": [
       "VBox()"
      ]
     },
     "metadata": {},
     "output_type": "display_data"
    },
    {
     "data": {
      "application/vnd.jupyter.widget-view+json": {
       "model_id": "",
       "version_major": 2,
       "version_minor": 0
      },
      "text/plain": [
       "FloatProgress(value=0.0, bar_style='info', description='Progress:', layout=Layout(height='25px', width='50%'),…"
      ]
     },
     "metadata": {},
     "output_type": "display_data"
    },
    {
     "name": "stderr",
     "output_type": "stream",
     "text": [
      "Exception in thread cell_monitor-32:\n",
      "Traceback (most recent call last):\n",
      "  File \"/mnt/notebook-env/lib/python3.7/threading.py\", line 926, in _bootstrap_inner\n",
      "    self.run()\n",
      "  File \"/mnt/notebook-env/lib/python3.7/threading.py\", line 870, in run\n",
      "    self._target(*self._args, **self._kwargs)\n",
      "  File \"/mnt/notebook-env/lib/python3.7/site-packages/awseditorssparkmonitoringwidget-1.0-py3.7.egg/awseditorssparkmonitoringwidget/cellmonitor.py\", line 178, in cell_monitor\n",
      "    job_binned_stages[job_id][stage_id] = all_stages[stage_id]\n",
      "KeyError: 2398\n",
      "\n"
     ]
    },
    {
     "name": "stdout",
     "output_type": "stream",
     "text": [
      "+----------+------+-----+\n",
      "|pred_class|target|count|\n",
      "+----------+------+-----+\n",
      "|         1|     1|   90|\n",
      "|         0|     0| 4497|\n",
      "|         0|     1|   45|\n",
      "|         1|     0| 2961|\n",
      "+----------+------+-----+\n",
      "\n",
      "[[4497. 2961.]\n",
      " [  45.   90.]]\n",
      "Summary Stats\n",
      "Precision = 0.029498525073746312\n",
      "Recall = 0.6666666666666666\n",
      "F1 Score = 0.6041090478071909\n",
      "Area under PR = 0.027545359858307625\n",
      "Area under ROC = 0.6348216680075086"
     ]
    }
   ],
   "source": [
    "#Creating prediction classs based on the prob cut off by KS value\n",
    "\n",
    "min_prob_max_ks = ks_test.where(col(\"max_diff\") == '<----').select(col(\"min_prob\")).collect()[0]\n",
    "predict_test = predict_test.withColumn('pred_class', F.when(F.col('prob_int') > round(min_prob_max_ks[0],4) ,1).otherwise(0))\n",
    "predict_test.groupBy('pred_class','target').count().show()\n",
    "\n",
    "#Generating evaluation metrics\n",
    "results = predict_test.select(['pred_class', 'target'])\n",
    "results = results.withColumn(\"target\", results[\"target\"].cast(DoubleType()))\n",
    "results = results.withColumn(\"pred_class\", results[\"pred_class\"].cast(DoubleType()))\n",
    "\n",
    "predictionAndLabels=results.rdd\n",
    "metrics = MulticlassMetrics(predictionAndLabels)\n",
    "metrics1 = BinaryClassificationMetrics(predictionAndLabels)\n",
    "\n",
    "cm=metrics.confusionMatrix().toArray()\n",
    "print(cm)\n",
    "# Overall statistics\n",
    "precision = metrics.precision(1)\n",
    "recall = metrics.recall(1)\n",
    "f1Score = metrics.fMeasure()\n",
    "print(\"Summary Stats\")\n",
    "print(\"Precision = %s\" % precision)\n",
    "print(\"Recall = %s\" % recall)\n",
    "print(\"F1 Score = %s\" % f1Score)\n",
    "# Area under precision-recall curve\n",
    "print(\"Area under PR = %s\" % metrics1.areaUnderPR)\n",
    "# Area under ROC curve\n",
    "print(\"Area under ROC = %s\" % metrics1.areaUnderROC)"
   ]
  },
  {
   "cell_type": "code",
   "execution_count": null,
   "metadata": {},
   "outputs": [],
   "source": []
  }
 ],
 "metadata": {
  "kernelspec": {
   "display_name": "PySpark",
   "language": "python",
   "name": "pysparkkernel"
  },
  "language_info": {
   "codemirror_mode": {
    "name": "python",
    "version": 3
   },
   "file_extension": ".py",
   "mimetype": "text/x-python",
   "name": "pyspark",
   "pygments_lexer": "python3"
  }
 },
 "nbformat": 4,
 "nbformat_minor": 4
}
